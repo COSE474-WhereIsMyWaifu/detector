{
 "cells": [
  {
   "cell_type": "code",
   "execution_count": 1,
   "metadata": {},
   "outputs": [],
   "source": [
    "import json\n",
    "import gc\n",
    "import numpy as np\n",
    "\n",
    "from utils.dataset import DetectionFolder\n",
    "from utils.model import YoloV3, YoloLoss, PostProcessor\n",
    "\n",
    "import matplotlib.pyplot as plt\n",
    "import matplotlib.image as mpimg\n",
    "import matplotlib.patches as patches\n",
    "\n",
    "from sklearn.cluster import KMeans\n",
    "\n",
    "import urllib\n",
    "from io import BytesIO\n",
    "from PIL import Image\n",
    "import os\n",
    "import fnmatch"
   ]
  },
  {
   "cell_type": "code",
   "execution_count": 2,
   "metadata": {},
   "outputs": [
    {
     "data": {
      "image/png": "[encoded data removed]",
      "text/plain": [
       "<Figure size 432x288 with 1 Axes>"
      ]
     },
     "metadata": {
      "needs_background": "light"
     },
     "output_type": "display_data"
    }
   ],
   "source": [
    "w = 620\n",
    "h = 620\n",
    "\n",
    "image = Image.new('RGB', (w, h), 'black')\n",
    "pixels = image.load()\n",
    "\n",
    "\n",
    "max_val = 0\n",
    "all_labels = []\n",
    "for file_name in os.listdir('../data/detect/labels/'):\n",
    "    if fnmatch.fnmatch(file_name, '*.txt'):\n",
    "        with open('../data/detect/labels/' + file_name, 'r') as labelfile:\n",
    "            labellines = labelfile.readlines()\n",
    "            labels = np.array([labelline.split(',') for labelline in labellines])\n",
    "            labels = labels.astype(np.float)\n",
    "            labels = [[label[3] - label[1], label[4] - label[2]] for label in labels]\n",
    "            for label in labels:\n",
    "                all_labels.append(label)\n",
    "                pixels[int(label[0]), int(label[1])] = tuple([v + 1 for v in pixels[int(label[0]), int(label[1])]])\n",
    "                max_val = max(max_val, pixels[int(label[0]), int(label[1])][0])\n",
    "\n",
    "max_rate = 250 / max_val\n",
    "\n",
    "for i in range(0, w):\n",
    "    for j in range(0, h):\n",
    "        if pixels[i, j][0] == 0:\n",
    "            pixels[i, j] = tuple([255, 255, 255])\n",
    "        else:\n",
    "            pixels[i, j] = tuple([0 , 0, 255])\n",
    "                      \n",
    "\n",
    "plt.imshow(image)\n",
    "plt.show()\n"
   ]
  },
  {
   "cell_type": "code",
   "execution_count": 3,
   "metadata": {},
   "outputs": [
    {
     "name": "stdout",
     "output_type": "stream",
     "text": [
      "1763\n"
     ]
    }
   ],
   "source": [
    "print(len(all_labels))"
   ]
  },
  {
   "cell_type": "code",
   "execution_count": 4,
   "metadata": {},
   "outputs": [
    {
     "name": "stdout",
     "output_type": "stream",
     "text": [
      "1763\n",
      "[[234.9666 324.2666]\n",
      " [417.7186 340.3381]\n",
      " [106.0833 149.7481]\n",
      " ...\n",
      " [216.7763 355.6227]\n",
      " [150.7333 297.2941]\n",
      " [157.0666 333.0588]]\n"
     ]
    }
   ],
   "source": [
    "tmp = np.array(all_labels)\n",
    "print(len(tmp))\n",
    "print(tmp)\n",
    "\n",
    "\n"
   ]
  },
  {
   "cell_type": "code",
   "execution_count": 8,
   "metadata": {},
   "outputs": [],
   "source": [
    "kmeans = KMeans(n_clusters=7).fit(all_labels)  "
   ]
  },
  {
   "cell_type": "code",
   "execution_count": 9,
   "metadata": {},
   "outputs": [
    {
     "name": "stdout",
     "output_type": "stream",
     "text": [
      "[[176.007651   151.416641  ]\n",
      " [137.08440148 279.08961778]\n",
      " [301.93423858 283.87957165]\n",
      " [ 51.96702287  79.17269663]\n",
      " [184.55711074 417.79325839]\n",
      " [366.19553553 464.60314079]\n",
      " [ 85.49125279 167.66314801]]\n"
     ]
    }
   ],
   "source": [
    "print(kmeans.cluster_centers_)"
   ]
  },
  {
   "cell_type": "code",
   "execution_count": 10,
   "metadata": {},
   "outputs": [
    {
     "name": "stdout",
     "output_type": "stream",
     "text": [
      "[[   176    151  53905]\n",
      " [   137    279  96683]\n",
      " [   301    283 171751]\n",
      " [    51     79   8968]\n",
      " [   184    417 208612]\n",
      " [   366    464 349955]\n",
      " [    85    167  35419]]\n"
     ]
    },
    {
     "data": {
      "image/png": "[encoded data removed]",
      "text/plain": [
       "<Figure size 432x432 with 1 Axes>"
      ]
     },
     "metadata": {
      "needs_background": "light"
     },
     "output_type": "display_data"
    }
   ],
   "source": [
    "clusters = kmeans.cluster_centers_\n",
    "clusters = np.array([[int(c[0]), int(c[1]), int(c[0] ** 2 + c[1] ** 2)] for c in clusters])\n",
    "print(clusters)\n",
    "\n",
    "_, ax = plt.subplots(1, 1, figsize=(6, 6))\n",
    "ax.imshow(image)\n",
    "for center_it in range(0, len(clusters)):\n",
    "    center = kmeans.cluster_centers_[center_it]\n",
    "            \n",
    "            \n",
    "    bounding = patches.Rectangle((center[0], center[1]), 3, 3, \n",
    "                linewidth=1, edgecolor='red', facecolor='red')\n",
    "    ax.add_patch(bounding)\n",
    "plt.show()"
   ]
  },
  {
   "cell_type": "code",
   "execution_count": null,
   "metadata": {},
   "outputs": [],
   "source": []
  }
 ],
 "metadata": {
  "kernelspec": {
   "display_name": "Python 3",
   "language": "python",
   "name": "python3"
  },
  "language_info": {
   "codemirror_mode": {
    "name": "ipython",
    "version": 3
   },
   "file_extension": ".py",
   "mimetype": "text/x-python",
   "name": "python",
   "nbconvert_exporter": "python",
   "pygments_lexer": "ipython3",
   "version": "3.7.3"
  }
 },
 "nbformat": 4,
 "nbformat_minor": 2
}

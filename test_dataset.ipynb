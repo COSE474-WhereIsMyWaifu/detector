{
 "cells": [
  {
   "cell_type": "code",
   "execution_count": null,
   "metadata": {},
   "outputs": [],
   "source": [
    "from utils.dataset import *\n",
    "\n",
    "import shutil\n",
    "\n",
    "import matplotlib.pyplot as plt\n",
    "import matplotlib.image as mpimg\n",
    "import matplotlib.patches as patches"
   ]
  },
  {
   "cell_type": "code",
   "execution_count": null,
   "metadata": {},
   "outputs": [],
   "source": [
    "# prams\n",
    "preproc_params = {\n",
    "    'in_dir' : None,\n",
    "    'in_json' : None,\n",
    "    'out_index' : None,\n",
    "    'out_image_dir' : None,\n",
    "    'out_label_dir' : None,\n",
    "    'prefix' : None\n",
    "}\n",
    "\n",
    "image_size = (608, 608)\n",
    "\n",
    "\n"
   ]
  },
  {
   "cell_type": "code",
   "execution_count": null,
   "metadata": {},
   "outputs": [],
   "source": [
    "# read param['in_json']\n",
    "# input images are at param['in_dir'] + param['prefix'] + '/'\n",
    "# will append param['out_index']\n",
    "# will create processed images at param['out_image_dir']\n",
    "# will create processed labels at param['out_label_dir']\n",
    "# processed file will named param['prefix'] + '_' + meta['title']\n",
    "\n",
    "preproc = DetectionPreProcessor()\n",
    "preproc.addProcessor(PickingProcess())\n",
    "preproc.addProcessor(ResizingProcess(image_size))\n",
    "preproc.addProcessor(SavingProcess())\n"
   ]
  },
  {
   "cell_type": "code",
   "execution_count": null,
   "metadata": {},
   "outputs": [],
   "source": [
    "preproc_params['in_dir'] = '../data/refined/images/'\n",
    "preproc_params['out_image_dir'] = '../data/detect/images/'\n",
    "preproc_params['out_label_dir'] = '../data/detect/labels/'\n",
    "\n"
   ]
  },
  {
   "cell_type": "code",
   "execution_count": null,
   "metadata": {},
   "outputs": [],
   "source": [
    "#traininglist = { 'your', 'custom', 'prefix' }\n",
    "traininglist = { 'magi24', 'magi25' }\n",
    "\n",
    "preproc_params['out_index'] = '../data/detect/train.txt'\n",
    "\n",
    "for prefix in traininglist:\n",
    "    print('processing : ', prefix)\n",
    "    preproc_params['in_json'] = '../data/refined/images/' + prefix + '.json'\n",
    "    preproc_params['prefix'] = prefix\n",
    "    preproc.process(preproc_params)"
   ]
  },
  {
   "cell_type": "code",
   "execution_count": null,
   "metadata": {},
   "outputs": [],
   "source": [
    "#traininglist = { 'your', 'custom', 'prefix' }\n",
    "traininglist = { 'magi25' }\n",
    "\n",
    "preproc_params['out_index'] = '../data/detect/test.txt'\n",
    "\n",
    "for prefix in traininglist:\n",
    "    print('processing : ', prefix)\n",
    "    preproc_params['in_json'] = '../data/refined/images/' + prefix + '.json'\n",
    "    preproc_params['prefix'] = prefix\n",
    "    preproc.process(preproc_params)"
   ]
  },
  {
   "cell_type": "code",
   "execution_count": null,
   "metadata": {},
   "outputs": [],
   "source": []
  },
  {
   "cell_type": "code",
   "execution_count": null,
   "metadata": {},
   "outputs": [],
   "source": [
    "\n",
    "preproc_params['out_index'] = '../data/detect/train.txt'\n",
    "\n",
    "# plot preprocessed image\n",
    "with open(preproc_params['out_index']) as metafile:\n",
    "    lines = metafile.readlines()\n",
    "    for line in lines:\n",
    "        labelname = preproc_params['out_label_dir'] + line[:-1] + '.txt'\n",
    "        imagename = preproc_params['out_image_dir'] + line[:-1] + '.png'\n",
    "\n",
    "        print(preproc_params['out_image_dir'] + line[:-1] + '.png')\n",
    "        img = mpimg.imread(imagename)\n",
    "        bboxes = []\n",
    "        split = line.split(',')\n",
    "        with open(labelname, 'r') as labelfile:\n",
    "            bboxlines = labelfile.readlines()\n",
    "            for bboxline in bboxlines:\n",
    "                bbox = bboxline.split(',')[1::1]\n",
    "                print(bbox)\n",
    "                print(img.shape)\n",
    "                bbox[0] = int(float(bbox[0]))\n",
    "                bbox[1] = int(float(bbox[1]))\n",
    "                bbox[2] = int(float(bbox[2]))\n",
    "                bbox[3] = int(float(bbox[3]))\n",
    "                bboxes.append(bbox)\n",
    "\n",
    "        _, ax = plt.subplots(1, 1, figsize=(6, 6))\n",
    "\n",
    "        face_cnt = int((len(split) - 1) / 4)\n",
    "        for it in range(0, len(bboxes)):\n",
    "            bbox = bboxes[it]\n",
    "            bounding = patches.Rectangle((bbox[0], bbox[1]), bbox[2] - bbox[0], bbox[3] - bbox[1], \n",
    "                                 linewidth=1, edgecolor='r', facecolor='none')\n",
    "            ax.add_patch(bounding)\n",
    "\n",
    "        plt.imshow(img)\n",
    "        plt.show()\n"
   ]
  },
  {
   "cell_type": "code",
   "execution_count": null,
   "metadata": {},
   "outputs": [],
   "source": [
    "\n",
    "\n"
   ]
  },
  {
   "cell_type": "code",
   "execution_count": null,
   "metadata": {},
   "outputs": [],
   "source": []
  }
 ],
 "metadata": {
  "file_extension": ".py",
  "kernelspec": {
   "display_name": "Python 3",
   "language": "python",
   "name": "python3"
  },
  "language_info": {
   "codemirror_mode": {
    "name": "ipython",
    "version": 3
   },
   "file_extension": ".py",
   "mimetype": "text/x-python",
   "name": "python",
   "nbconvert_exporter": "python",
   "pygments_lexer": "ipython3",
   "version": "3.7.3"
  },
  "mimetype": "text/x-python",
  "name": "python",
  "npconvert_exporter": "python",
  "pygments_lexer": "ipython3",
  "version": 3
 },
 "nbformat": 4,
 "nbformat_minor": 2
}

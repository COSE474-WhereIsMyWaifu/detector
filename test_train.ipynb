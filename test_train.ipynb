{
 "cells": [
  {
   "cell_type": "code",
   "execution_count": null,
   "metadata": {},
   "outputs": [],
   "source": [
    "import torch\n",
    "import torch.nn as nn\n",
    "import torch.nn.functional as F\n",
    "from torch import autograd\n",
    "from torch.utils.data import DataLoader\n",
    "\n",
    "import gc\n",
    "import numpy as np\n",
    "\n",
    "from utils.dataset import DetectionFolder\n",
    "from utils.model import YoloV3, YoloLoss\n"
   ]
  },
  {
   "cell_type": "code",
   "execution_count": null,
   "metadata": {},
   "outputs": [],
   "source": [
    "# config\n",
    "device = torch.device('cuda' if torch.cuda.is_available() else 'cpu')\n",
    "dtype = torch.float\n",
    "\n",
    "data_config = { }\n",
    "data_config['train'] = '../data/detect/train.txt'\n",
    "data_config['test'] = '../data/detect/train.txt'\n",
    "data_config['image'] = '../data/detect/images/'\n",
    "data_config['label'] = '../data/detect/labels/'\n",
    "\n",
    "model_config = { }\n",
    "model_config['device'] = device\n",
    "model_config['size'] = (608, 608)\n",
    "model_config['channel'] = 3\n",
    "model_config['dtype'] = torch.float\n",
    "model_config['anchors'] = [(10, 13), (16, 30), (33, 23), (30, 61), (62, 45), (59, 119), (116, 90), (156, 198), (373, 326)]\n",
    "model_config['attribs'] = 5\n",
    "model_config['debug_level'] = 1\n",
    "\n",
    "train_config = { }\n",
    "train_config['coef_noobj'] = 0.2\n",
    "train_config['coef_coord'] = 20 / (608 * 608)\n",
    "train_config['coef_total'] = 2\n",
    "train_config['device'] = device\n",
    "train_config['debug_level'] = 0\n",
    "train_config['iou_threshold'] = 0.75\n",
    "\n",
    "\n",
    "trainset = DetectionFolder(data_config['train'], data_config['image'], data_config['label'])\n",
    "trainloader = DataLoader(trainset, batch_size = 2, num_workers = 4)\n",
    "#testset = DetectionFolder(config['test'], config['image'], config['label'])\n",
    "#testloader = DataLoader(testset)"
   ]
  },
  {
   "cell_type": "code",
   "execution_count": null,
   "metadata": {
    "scrolled": true
   },
   "outputs": [],
   "source": [
    "print(trainset.__len__())\n",
    "for indx in range(0, 4):\n",
    "    print(trainset.__getitem__(indx)['label'].shape)\n",
    "    print(trainset.__getitem__(indx))\n",
    "    print(trainset.__getitem__(0)['image'])"
   ]
  },
  {
   "cell_type": "code",
   "execution_count": null,
   "metadata": {
    "scrolled": true
   },
   "outputs": [],
   "source": [
    "for idx, batches in enumerate(trainloader):\n",
    "    print(idx)\n",
    "    print(batches['image'].shape)"
   ]
  },
  {
   "cell_type": "code",
   "execution_count": null,
   "metadata": {},
   "outputs": [],
   "source": []
  },
  {
   "cell_type": "code",
   "execution_count": null,
   "metadata": {},
   "outputs": [],
   "source": []
  },
  {
   "cell_type": "code",
   "execution_count": null,
   "metadata": {},
   "outputs": [],
   "source": []
  },
  {
   "cell_type": "code",
   "execution_count": null,
   "metadata": {},
   "outputs": [],
   "source": []
  },
  {
   "cell_type": "code",
   "execution_count": null,
   "metadata": {
    "scrolled": true
   },
   "outputs": [],
   "source": [
    "# create model\n",
    "model = YoloV3(model_config)\n",
    "model.to(model_config['device'])"
   ]
  },
  {
   "cell_type": "code",
   "execution_count": null,
   "metadata": {},
   "outputs": [],
   "source": []
  },
  {
   "cell_type": "code",
   "execution_count": null,
   "metadata": {},
   "outputs": [],
   "source": []
  },
  {
   "cell_type": "code",
   "execution_count": null,
   "metadata": {},
   "outputs": [],
   "source": []
  },
  {
   "cell_type": "code",
   "execution_count": null,
   "metadata": {},
   "outputs": [],
   "source": [
    "# create components\n",
    "learning_rate = 0.1\n",
    "loss_cache = []\n",
    "#lr_func = lambda epoch: learning_rate * (0.97 ** epoch) if epoch > 30 else 0.01\n",
    "lr_func = lambda epoch: learning_rate\n",
    "\n",
    "optimizer = torch.optim.Adam(model.parameters(), lr=learning_rate)\n",
    "#optimizer = torch.optim.SGD(model.parameters(), lr=learning_rate)\n",
    "scheduler = torch.optim.lr_scheduler.LambdaLR(optimizer, lr_lambda=lr_func, last_epoch = -1)\n",
    "loss_func = YoloLoss(train_config)"
   ]
  },
  {
   "cell_type": "code",
   "execution_count": null,
   "metadata": {},
   "outputs": [],
   "source": [
    "def train_step(config, model, trainloader, loss_func, optimizer):\n",
    "    model.train()\n",
    "        \n",
    "    global learning_rate\n",
    "    global loss_cache\n",
    "    \n",
    "    avg_loss = []\n",
    "    \n",
    "    for idx, batches in enumerate(trainloader):\n",
    "        if config['debug_level'] >= 2:\n",
    "            print('index', idx)\n",
    "            \n",
    "        image = batches['image'].to(config['device'], dtype = config['dtype'])\n",
    "        labels = batches['label'].to(config['device'], dtype = config['dtype'])# / config['size'][0]\n",
    "        label_len = batches['label_len'].to(config['device'], dtype = torch.long)\n",
    "        if config['debug_level'] >= 3:\n",
    "            print('label shape : ', labels.shape)\n",
    "        \n",
    "        # forward\n",
    "        out1, out2, out3 = model(image)\n",
    "        \n",
    "        if config['debug_level'] >= 2:\n",
    "            print('out1.shape : ', out1.shape)\n",
    "            print('out1[0] : ', out1[0])\n",
    "            print('out2.shape : ', out2.shape)\n",
    "            print('out2[0] : ', out2[0])\n",
    "            print('out3.shape : ', out3.shape)\n",
    "            print('out3[0] : ', out3[0])\n",
    "            print('labels.shape : ', labels.shape)\n",
    "            print('labels[0] : ', labels[0])\n",
    "\n",
    "        # clear optimizer\n",
    "        optimizer.zero_grad()\n",
    "        \n",
    "        # backward\n",
    "        loss = loss_func(torch.cat((out1, out2, out3), 1), labels, label_len)\n",
    "        loss.backward()\n",
    "        optimizer.step()\n",
    "            \n",
    "        avg_loss.append(loss.item())\n",
    "        \n",
    "        # cleanup\n",
    "        del image\n",
    "        del labels\n",
    "        del out1\n",
    "        del out2\n",
    "        del out3\n",
    "        gc.collect()\n",
    "        torch.cuda.empty_cache()\n",
    "    \n",
    "    # update learning_rate\n",
    "    loss_cache.append(np.mean(avg_loss))\n",
    "        \n",
    "    if len(loss_cache) >= 10 and np.mean(loss_cache) < np.mean(loss_cache[-2:]) :\n",
    "        print('decrease learning rate from : ', learning_rate)\n",
    "        print('average of previous loss : ', np.mean(loss_cache))\n",
    "        print('length of previous loss : ', len(loss_cache))\n",
    "        learning_rate = learning_rate * 0.90\n",
    "        loss_cache = []\n",
    "        print('decrease learning rate to : ', learning_rate)\n",
    "    if len(loss_cache) > 20 :\n",
    "        loss_cache = loss_cache[15:]\n",
    "        \n",
    "    # print loss\n",
    "    if config['debug_level'] >= 1:\n",
    "        print('avg loss : ', np.mean(avg_loss))\n",
    "\n"
   ]
  },
  {
   "cell_type": "code",
   "execution_count": null,
   "metadata": {
    "scrolled": true
   },
   "outputs": [],
   "source": [
    "# single step\n",
    "with torch.autograd.set_detect_anomaly(False):\n",
    "    train_step(model_config, model, trainloader, loss_func, optimizer)\n",
    "    scheduler.step()"
   ]
  },
  {
   "cell_type": "code",
   "execution_count": null,
   "metadata": {},
   "outputs": [],
   "source": []
  },
  {
   "cell_type": "code",
   "execution_count": null,
   "metadata": {},
   "outputs": [],
   "source": []
  },
  {
   "cell_type": "code",
   "execution_count": null,
   "metadata": {
    "scrolled": false
   },
   "outputs": [],
   "source": [
    "# value checking\n",
    "for epoch in range(0, 30):\n",
    "    print('epoch : ', epoch)\n",
    "    with torch.autograd.set_detect_anomaly(False):\n",
    "        trainset.shuffle()\n",
    "        train_step(model_config, model, trainloader, loss_func, optimizer)\n",
    "        scheduler.step()\n"
   ]
  },
  {
   "cell_type": "code",
   "execution_count": null,
   "metadata": {
    "scrolled": true
   },
   "outputs": [],
   "source": []
  },
  {
   "cell_type": "code",
   "execution_count": null,
   "metadata": {
    "scrolled": true
   },
   "outputs": [],
   "source": [
    "\n",
    "train_config['debug_level'] = 0\n",
    "loss_func = YoloLoss(train_config)\n",
    "\n",
    "for epoch in range(30, 1200):\n",
    "    print('epoch : ', epoch)\n",
    "    trainset.shuffle()\n",
    "    train_step(model_config, model, trainloader, loss_func, optimizer)\n",
    "    scheduler.step()\n",
    "    \n",
    "    if epoch % 200 == 0 :\n",
    "        torch.save(model, './epoch_' + str(epoch) + '.dat')"
   ]
  },
  {
   "cell_type": "code",
   "execution_count": null,
   "metadata": {},
   "outputs": [],
   "source": []
  },
  {
   "cell_type": "code",
   "execution_count": null,
   "metadata": {},
   "outputs": [],
   "source": []
  },
  {
   "cell_type": "code",
   "execution_count": null,
   "metadata": {},
   "outputs": [],
   "source": []
  },
  {
   "cell_type": "code",
   "execution_count": null,
   "metadata": {},
   "outputs": [],
   "source": [
    "\n",
    "torch.save(model, './epoch_2000.dat')"
   ]
  },
  {
   "cell_type": "code",
   "execution_count": null,
   "metadata": {},
   "outputs": [],
   "source": []
  },
  {
   "cell_type": "code",
   "execution_count": null,
   "metadata": {},
   "outputs": [],
   "source": [
    "\n",
    "\n"
   ]
  }
 ],
 "metadata": {
  "file_extension": ".py",
  "kernelspec": {
   "display_name": "Python 3",
   "language": "python",
   "name": "python3"
  },
  "language_info": {
   "codemirror_mode": {
    "name": "ipython",
    "version": 3
   },
   "file_extension": ".py",
   "mimetype": "text/x-python",
   "name": "python",
   "nbconvert_exporter": "python",
   "pygments_lexer": "ipython3",
   "version": "3.7.3"
  },
  "mimetype": "text/x-python",
  "name": "python",
  "npconvert_exporter": "python",
  "pygments_lexer": "ipython3",
  "version": 3
 },
 "nbformat": 4,
 "nbformat_minor": 2
}

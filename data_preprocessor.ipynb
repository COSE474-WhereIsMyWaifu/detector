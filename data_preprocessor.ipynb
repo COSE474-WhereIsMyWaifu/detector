{
 "cells": [
  {
   "cell_type": "code",
   "execution_count": null,
   "metadata": {},
   "outputs": [],
   "source": []
  },
  {
   "cell_type": "markdown",
   "metadata": {},
   "source": [
    "For better performance, preprocess the input with resizing, random clamping"
   ]
  },
  {
   "cell_type": "markdown",
   "metadata": {},
   "source": [
    "## Import & Environment Setting"
   ]
  },
  {
   "cell_type": "code",
   "execution_count": null,
   "metadata": {},
   "outputs": [],
   "source": [
    "from utils.dataset import *\n",
    "\n",
    "import shutil\n",
    "\n",
    "import matplotlib.pyplot as plt\n",
    "import matplotlib.image as mpimg\n",
    "import matplotlib.patches as patches"
   ]
  },
  {
   "cell_type": "code",
   "execution_count": null,
   "metadata": {},
   "outputs": [],
   "source": [
    "# prams\n",
    "preproc_params = {\n",
    "    'in_dir' : None,\n",
    "    'in_json' : None,\n",
    "    'out_index' : None,\n",
    "    'out_image_dir' : None,\n",
    "    'out_label_dir' : None,\n",
    "    'prefix' : None\n",
    "}\n",
    "\n",
    "image_size = (608, 608)"
   ]
  },
  {
   "cell_type": "markdown",
   "metadata": {},
   "source": [
    "## Define Model"
   ]
  },
  {
   "cell_type": "code",
   "execution_count": null,
   "metadata": {},
   "outputs": [],
   "source": [
    "preproc_params['in_dir'] = '../data/refined/images/'\n",
    "preproc_params['out_image_dir'] = '../data/detect/images/'\n",
    "preproc_params['out_label_dir'] = '../data/detect/labels/'"
   ]
  },
  {
   "cell_type": "code",
   "execution_count": null,
   "metadata": {},
   "outputs": [],
   "source": [
    "proc = DetectionPreProcessor()\n",
    "proc.addProcessor(PickingProcess())\n",
    "proc.addProcessor(ResizingProcess(image_size))\n",
    "proc.addProcessor(SavingProcess())"
   ]
  },
  {
   "cell_type": "code",
   "execution_count": null,
   "metadata": {},
   "outputs": [],
   "source": []
  },
  {
   "cell_type": "code",
   "execution_count": null,
   "metadata": {},
   "outputs": [],
   "source": [
    "cropproc1 = DetectionPreProcessor()\n",
    "cropproc1.addProcessor(PickingProcess('_crop'))\n",
    "cropproc1.addProcessor(CropResizingProcess(image_size))\n",
    "cropproc1.addProcessor(SavingProcess())\n",
    "\n",
    "cropproc2 = DetectionPreProcessor()\n",
    "cropproc2.addProcessor(PickingProcess('_crop2'))\n",
    "cropproc2.addProcessor(CropResizingProcess(image_size))\n",
    "cropproc2.addProcessor(SavingProcess())"
   ]
  },
  {
   "cell_type": "markdown",
   "metadata": {},
   "source": [
    "## Generate Trainingset"
   ]
  },
  {
   "cell_type": "code",
   "execution_count": null,
   "metadata": {},
   "outputs": [],
   "source": [
    "#traininglist = ['your', 'custom', 'prefix']\n",
    "traininglist = ['sh']\n",
    "\n",
    "preproc_params['out_index'] = '../data/detect/train.txt'\n",
    "\n",
    "for prefix in traininglist:\n",
    "    print('processing : ', prefix)\n",
    "    preproc_params['in_json'] = '../data/refined/images/' + prefix + '.json'\n",
    "    preproc_params['prefix'] = prefix\n",
    "    proc.process(preproc_params)\n",
    "    cropproc1.process(preproc_params)\n",
    "    cropproc2.process(preproc_params)"
   ]
  },
  {
   "cell_type": "code",
   "execution_count": null,
   "metadata": {},
   "outputs": [],
   "source": []
  },
  {
   "cell_type": "code",
   "execution_count": null,
   "metadata": {},
   "outputs": [],
   "source": []
  },
  {
   "cell_type": "markdown",
   "metadata": {},
   "source": [
    "## Generate Testset"
   ]
  },
  {
   "cell_type": "code",
   "execution_count": null,
   "metadata": {},
   "outputs": [],
   "source": [
    "#testlist = ['your', 'custom', 'prefix']\n",
    "testlist = []\n",
    "\n",
    "preproc_params['out_index'] = '../data/detect/test.txt'\n",
    "\n",
    "for prefix in testlist:\n",
    "    print('processing : ', prefix)\n",
    "    preproc_params['in_json'] = '../data/refined/images/' + prefix + '.json'\n",
    "    preproc_params['prefix'] = prefix\n",
    "    proc.process(preproc_params)\n",
    "    cropproc1.process(preproc_params)\n",
    "    cropproc2.process(preproc_params)"
   ]
  }
 ],
 "metadata": {
  "kernelspec": {
   "display_name": "Python 3",
   "language": "python",
   "name": "python3"
  },
  "language_info": {
   "codemirror_mode": {
    "name": "ipython",
    "version": 3
   },
   "file_extension": ".py",
   "mimetype": "text/x-python",
   "name": "python",
   "nbconvert_exporter": "python",
   "pygments_lexer": "ipython3",
   "version": "3.7.3"
  }
 },
 "nbformat": 4,
 "nbformat_minor": 2
}

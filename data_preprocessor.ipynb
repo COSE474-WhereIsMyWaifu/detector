{
 "cells": [
  {
   "cell_type": "code",
   "execution_count": null,
   "metadata": {},
   "outputs": [],
   "source": []
  },
  {
   "cell_type": "markdown",
   "metadata": {},
   "source": [
    "For better performance, preprocess the input with resizing, random clamping"
   ]
  },
  {
   "cell_type": "markdown",
   "metadata": {},
   "source": [
    "## Import & Environment Setting"
   ]
  },
  {
   "cell_type": "code",
   "execution_count": null,
   "metadata": {},
   "outputs": [],
   "source": [
    "from utils.dataset import ImagePreProcessor\n",
    "\n",
    "import shutil\n",
    "\n",
    "import matplotlib.pyplot as plt\n",
    "import matplotlib.image as mpimg\n",
    "import matplotlib.patches as patches"
   ]
  },
  {
   "cell_type": "code",
   "execution_count": null,
   "metadata": {},
   "outputs": [],
   "source": [
    "# prams\n",
    "preproc_params = {\n",
    "    'in_dir' : None,\n",
    "    'in_json' : None,\n",
    "    'out_index' : None,\n",
    "    'out_image_dir' : None,\n",
    "    'out_label_dir' : None,\n",
    "    'prefix' : None\n",
    "}\n",
    "\n",
    "image_size = (608, 608)"
   ]
  },
  {
   "cell_type": "markdown",
   "metadata": {},
   "source": [
    "## Define Model"
   ]
  },
  {
   "cell_type": "code",
   "execution_count": null,
   "metadata": {},
   "outputs": [],
   "source": [
    "preproc_params['in_dir'] = '../data/refined/'\n",
    "preproc_params['out_image_dir'] = '../data/detect/images/'\n",
    "preproc_params['out_label_dir'] = '../data/detect/labels/'"
   ]
  },
  {
   "cell_type": "code",
   "execution_count": null,
   "metadata": {},
   "outputs": [],
   "source": [
    "preprocessor = ImagePreProcessor(image_size)"
   ]
  },
  {
   "cell_type": "markdown",
   "metadata": {},
   "source": [
    "## Generate Trainingset"
   ]
  },
  {
   "cell_type": "code",
   "execution_count": null,
   "metadata": {},
   "outputs": [],
   "source": [
    "#traininglist = ['your', 'custom', 'trainfolders']\n",
    "traininglist = ['any01', 'claris_step', 'fnoitamina01', 'free01', 'free02', 'idolmaster25', 'imas_ready', 'imascinderella01', 'magi17', 'magi24', 'magi25', 'maidragon01', 'maidragon13', 'phantomworld01', 'pixiv01', 'sh', 'swordart24', 'tsurune04', 'tsurune11']\n",
    "\n",
    "preproc_params['out_index'] = '../data/detect/train.txt'\n",
    "\n",
    "for prefix in traininglist:\n",
    "    print('processing : ', prefix)\n",
    "    preproc_params['in_json'] = '../data/refined/' + prefix + '.json'\n",
    "    preproc_params['prefix'] = prefix\n",
    "    preprocessor(preproc_params)"
   ]
  },
  {
   "cell_type": "markdown",
   "metadata": {},
   "source": [
    "## Generate Validationset"
   ]
  },
  {
   "cell_type": "code",
   "execution_count": null,
   "metadata": {
    "scrolled": true
   },
   "outputs": [],
   "source": [
    "#testlist = ['your', 'custom', 'prefix']\n",
    "validationlist = ['validation', 'any02']\n",
    "\n",
    "preproc_params['out_index'] = '../data/detect/validation.txt'\n",
    "\n",
    "for prefix in validationlist:\n",
    "    print('processing : ', prefix)\n",
    "    preproc_params['in_json'] = '../data/refined/' + prefix + '.json'\n",
    "    preproc_params['prefix'] = prefix\n",
    "    preprocessor(preproc_params)"
   ]
  },
  {
   "cell_type": "markdown",
   "metadata": {},
   "source": [
    "## Generate Testset"
   ]
  },
  {
   "cell_type": "code",
   "execution_count": null,
   "metadata": {},
   "outputs": [],
   "source": [
    "#testlist = ['your', 'custom', 'prefix']\n",
    "testlist = ['test']\n",
    "\n",
    "preproc_params['out_index'] = '../data/detect/test.txt'\n",
    "\n",
    "for prefix in testlist:\n",
    "    print('processing : ', prefix)\n",
    "    preproc_params['in_json'] = '../data/refined/' + prefix + '.json'\n",
    "    preproc_params['prefix'] = prefix\n",
    "    preprocessor(preproc_params)"
   ]
  }
 ],
 "metadata": {
  "kernelspec": {
   "display_name": "Python 3",
   "language": "python",
   "name": "python3"
  },
  "language_info": {
   "codemirror_mode": {
    "name": "ipython",
    "version": 3
   },
   "file_extension": ".py",
   "mimetype": "text/x-python",
   "name": "python",
   "nbconvert_exporter": "python",
   "pygments_lexer": "ipython3",
   "version": "3.7.3"
  }
 },
 "nbformat": 4,
 "nbformat_minor": 2
}

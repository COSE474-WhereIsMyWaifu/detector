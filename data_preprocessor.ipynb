{
 "cells": [
  {
   "cell_type": "code",
   "execution_count": null,
   "metadata": {},
   "outputs": [],
   "source": []
  },
  {
   "cell_type": "markdown",
   "metadata": {},
   "source": [
    "For better performance, preprocess the input with resizing, random clamping"
   ]
  },
  {
   "cell_type": "markdown",
   "metadata": {},
   "source": [
    "## Import & Environment Setting"
   ]
  },
  {
   "cell_type": "code",
   "execution_count": 1,
   "metadata": {},
   "outputs": [],
   "source": [
    "from utils.dataset import *\n",
    "\n",
    "import shutil\n",
    "\n",
    "import matplotlib.pyplot as plt\n",
    "import matplotlib.image as mpimg\n",
    "import matplotlib.patches as patches"
   ]
  },
  {
   "cell_type": "code",
   "execution_count": 2,
   "metadata": {},
   "outputs": [],
   "source": [
    "# prams\n",
    "preproc_params = {\n",
    "    'in_dir' : None,\n",
    "    'in_json' : None,\n",
    "    'out_index' : None,\n",
    "    'out_image_dir' : None,\n",
    "    'out_label_dir' : None,\n",
    "    'prefix' : None\n",
    "}\n",
    "\n",
    "image_size = (608, 608)"
   ]
  },
  {
   "cell_type": "markdown",
   "metadata": {},
   "source": [
    "## Define Model"
   ]
  },
  {
   "cell_type": "code",
   "execution_count": 3,
   "metadata": {},
   "outputs": [],
   "source": [
    "preproc_params['in_dir'] = '../data/refined/'\n",
    "preproc_params['out_image_dir'] = '../data/detect/images/'\n",
    "preproc_params['out_label_dir'] = '../data/detect/labels/'"
   ]
  },
  {
   "cell_type": "code",
   "execution_count": 4,
   "metadata": {},
   "outputs": [],
   "source": [
    "proc = DetectionPreProcessor()\n",
    "proc.addProcessor(PickingProcess())\n",
    "proc.addProcessor(ResizingProcess(image_size))\n",
    "proc.addProcessor(SavingProcess())"
   ]
  },
  {
   "cell_type": "code",
   "execution_count": null,
   "metadata": {},
   "outputs": [],
   "source": []
  },
  {
   "cell_type": "code",
   "execution_count": 5,
   "metadata": {},
   "outputs": [],
   "source": [
    "cropproc1 = DetectionPreProcessor()\n",
    "cropproc1.addProcessor(PickingProcess('_crop'))\n",
    "cropproc1.addProcessor(CropResizingProcess(image_size))\n",
    "cropproc1.addProcessor(SavingProcess())\n",
    "\n",
    "cropproc2 = DetectionPreProcessor()\n",
    "cropproc2.addProcessor(PickingProcess('_crop2'))\n",
    "cropproc2.addProcessor(CropResizingProcess(image_size))\n",
    "cropproc2.addProcessor(SavingProcess())"
   ]
  },
  {
   "cell_type": "markdown",
   "metadata": {},
   "source": [
    "## Generate Trainingset"
   ]
  },
  {
   "cell_type": "code",
   "execution_count": 6,
   "metadata": {},
   "outputs": [
    {
     "name": "stdout",
     "output_type": "stream",
     "text": [
      "processing :  any01\n",
      "processing :  claris_step\n",
      "processing :  fnoitamina01\n",
      "processing :  free01\n",
      "processing :  free02\n",
      "processing :  idolmaster25\n",
      "processing :  imas_ready\n",
      "processing :  imascinderella01\n",
      "processing :  magi17\n",
      "processing :  magi24\n",
      "processing :  magi25\n",
      "processing :  maidragon01\n",
      "processing :  maidragon13\n",
      "processing :  phantomworld01\n",
      "processing :  pixiv01\n",
      "61477790_p0\n",
      "(10, 0, 429, 608)\n",
      "processing :  sh\n",
      "processing :  swordart24\n",
      "processing :  tsurune04\n",
      "processing :  tsurune11\n"
     ]
    }
   ],
   "source": [
    "#traininglist = ['your', 'custom', 'trainfolders']\n",
    "traininglist = ['any01', 'claris_step', 'fnoitamina01', 'free01', 'free02', 'idolmaster25', 'imas_ready', 'imascinderella01', 'magi17', 'magi24', 'magi25', 'maidragon01', 'maidragon13', 'phantomworld01', 'pixiv01', 'sh', 'swordart24', 'tsurune04', 'tsurune11']\n",
    "\n",
    "preproc_params['out_index'] = '../data/detect/train.txt'\n",
    "\n",
    "for prefix in traininglist:\n",
    "    print('processing : ', prefix)\n",
    "    preproc_params['in_json'] = '../data/refined/' + prefix + '.json'\n",
    "    preproc_params['prefix'] = prefix\n",
    "    proc.process(preproc_params)\n",
    "    cropproc1.process(preproc_params)\n",
    "    cropproc2.process(preproc_params)"
   ]
  },
  {
   "cell_type": "markdown",
   "metadata": {},
   "source": [
    "## Generate Validationset"
   ]
  },
  {
   "cell_type": "code",
   "execution_count": 7,
   "metadata": {},
   "outputs": [
    {
     "name": "stdout",
     "output_type": "stream",
     "text": [
      "processing :  validation\n",
      "processing :  any02\n"
     ]
    }
   ],
   "source": [
    "#testlist = ['your', 'custom', 'prefix']\n",
    "validationlist = ['validation', 'any02']\n",
    "\n",
    "preproc_params['out_index'] = '../data/detect/validation.txt'\n",
    "\n",
    "for prefix in validationlist:\n",
    "    print('processing : ', prefix)\n",
    "    preproc_params['in_json'] = '../data/refined/' + prefix + '.json'\n",
    "    preproc_params['prefix'] = prefix\n",
    "    proc.process(preproc_params)\n",
    "    cropproc1.process(preproc_params)\n",
    "    cropproc2.process(preproc_params)"
   ]
  },
  {
   "cell_type": "markdown",
   "metadata": {},
   "source": [
    "## Generate Testset"
   ]
  },
  {
   "cell_type": "code",
   "execution_count": 8,
   "metadata": {},
   "outputs": [
    {
     "name": "stdout",
     "output_type": "stream",
     "text": [
      "processing :  test\n"
     ]
    }
   ],
   "source": [
    "#testlist = ['your', 'custom', 'prefix']\n",
    "testlist = ['test']\n",
    "\n",
    "preproc_params['out_index'] = '../data/detect/test.txt'\n",
    "\n",
    "for prefix in testlist:\n",
    "    print('processing : ', prefix)\n",
    "    preproc_params['in_json'] = '../data/refined/' + prefix + '.json'\n",
    "    preproc_params['prefix'] = prefix\n",
    "    proc.process(preproc_params)\n",
    "    cropproc1.process(preproc_params)\n",
    "    cropproc2.process(preproc_params)"
   ]
  }
 ],
 "metadata": {
  "kernelspec": {
   "display_name": "Python 3",
   "language": "python",
   "name": "python3"
  },
  "language_info": {
   "codemirror_mode": {
    "name": "ipython",
    "version": 3
   },
   "file_extension": ".py",
   "mimetype": "text/x-python",
   "name": "python",
   "nbconvert_exporter": "python",
   "pygments_lexer": "ipython3",
   "version": "3.7.3"
  }
 },
 "nbformat": 4,
 "nbformat_minor": 2
}

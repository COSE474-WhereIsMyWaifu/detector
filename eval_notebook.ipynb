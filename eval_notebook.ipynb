{
 "cells": [
  {
   "cell_type": "markdown",
   "metadata": {},
   "source": [
    "## Import & Environment Setting"
   ]
  },
  {
   "cell_type": "code",
   "execution_count": null,
   "metadata": {},
   "outputs": [],
   "source": [
    "import torch\n",
    "from torch import autograd\n",
    "from torch.utils.data import DataLoader\n",
    "\n",
    "import json\n",
    "import gc\n",
    "import numpy as np\n",
    "\n",
    "from utils.dataset import DetectionFolder\n",
    "from utils.model import YoloV3, YoloLoss, PostProcessor\n",
    "\n",
    "import matplotlib.pyplot as plt\n",
    "import matplotlib.image as mpimg\n",
    "import matplotlib.patches as patches\n",
    "\n",
    "import urllib\n",
    "from io import BytesIO\n",
    "from PIL import Image"
   ]
  },
  {
   "cell_type": "code",
   "execution_count": null,
   "metadata": {},
   "outputs": [],
   "source": [
    "device = torch.device('cuda' if torch.cuda.is_available() else 'cpu')\n",
    "dtype = torch.float"
   ]
  },
  {
   "cell_type": "markdown",
   "metadata": {},
   "source": [
    "## Load Config"
   ]
  },
  {
   "cell_type": "code",
   "execution_count": null,
   "metadata": {},
   "outputs": [],
   "source": [
    "with open(\"./config/config.json\", \"r\") as config_file:\n",
    "    main_config = json.load(config_file)\n",
    "\n",
    "try:\n",
    "    model_config = main_config['model']\n",
    "    test_config = main_config['test']\n",
    "except NameError:\n",
    "    assert False, ('Failed to load config file')\n",
    "except KeyError:\n",
    "    assert False, ('Failed to find key on config file')"
   ]
  },
  {
   "cell_type": "code",
   "execution_count": null,
   "metadata": {},
   "outputs": [],
   "source": [
    "model_config['device'] = device\n",
    "model_config['dtype'] = dtype\n",
    "model_config['attrib_count'] = 5 + model_config['class_count']\n",
    "\n",
    "test_config['device'] = device\n",
    "test_config['dtype'] = dtype"
   ]
  },
  {
   "cell_type": "markdown",
   "metadata": {},
   "source": [
    "## Build"
   ]
  },
  {
   "cell_type": "code",
   "execution_count": null,
   "metadata": {},
   "outputs": [],
   "source": [
    "model = torch.load('./model/1104/model_250.dat')\n",
    "model.to(device)\n",
    "model = model.eval()"
   ]
  },
  {
   "cell_type": "code",
   "execution_count": null,
   "metadata": {},
   "outputs": [],
   "source": [
    "test_context = { }\n",
    "\n",
    "test_context['dataset'] = DetectionFolder(test_config['test_list'], test_config['test_image'], test_config['test_label'])\n",
    "test_context['dataloader'] = DataLoader(test_context['dataset'], batch_size = 1, num_workers = 1)\n",
    "\n",
    "test_context['k'] = 30\n",
    "test_context['threshold'] = 0.5\n",
    "test_context['nms_threshold'] = 0.2\n",
    "test_context['debug_level'] = test_config['debug_level']"
   ]
  },
  {
   "cell_type": "code",
   "execution_count": null,
   "metadata": {},
   "outputs": [],
   "source": [
    "def test_labels(test_context, test_config, n):\n",
    "    output = {}\n",
    "    output['title'] = []\n",
    "    output['image'] = []\n",
    "    output['pred'] = []\n",
    "    output['label'] = []\n",
    "    output['n'] = 0\n",
    "    \n",
    "    with torch.no_grad():\n",
    "        for idx, batches in enumerate(test_context['dataloader']):\n",
    "            image = batches['image'].to(test_config['device'], dtype = test_config['dtype'])\n",
    "            labels = batches['label'].to(test_config['device'], dtype = test_config['dtype'])\n",
    "            label_len = batches['label_len'].to(test_config['device'], dtype = torch.long)\n",
    "            \n",
    "            out1, out2, out3 = model(image)\n",
    "            pred = torch.cat((out1, out2, out3), 1)\n",
    "        \n",
    "            output['title'].append(batches['title'])\n",
    "            output['image'].append(batches['image'].cpu().permute(0, 2, 3, 1).squeeze(0).numpy())\n",
    "            output['pred'].append(pred.cpu().detach().squeeze(0).numpy())\n",
    "            output['label'].append(batches['label'].cpu().squeeze(0).numpy())\n",
    "            output['n'] = output['n'] + 1\n",
    "        \n",
    "            gc.collect()\n",
    "            torch.cuda.empty_cache()\n",
    "            del image, labels, label_len\n",
    "            del out1, out2, out3\n",
    "            \n",
    "            if (idx + 1) == n :\n",
    "                break\n",
    "                \n",
    "    return output\n",
    "\n",
    "def test_no_labels(test_context, test_config, n):\n",
    "    output = {}\n",
    "    output['title'] = []\n",
    "    output['image'] = []\n",
    "    output['pred'] = []\n",
    "    output['label'] = []\n",
    "    output['n'] = 0\n",
    "    \n",
    "    with torch.no_grad():\n",
    "        for idx, batches in enumerate(test_context['dataloader']):\n",
    "            image = batches['image'].to(test_config['device'], dtype = test_config['dtype'])\n",
    "            \n",
    "            out1, out2, out3 = model(image)\n",
    "            pred = torch.cat((out1, out2, out3), 1)\n",
    "        \n",
    "            output['title'].append(batches['title'])\n",
    "            output['image'].append(batches['image'].permute(0, 2, 3, 1).squeeze(0).numpy())\n",
    "            output['pred'].append(pred.cpu().detach().squeeze(0).numpy())\n",
    "            output['n'] = output['n'] + 1\n",
    "        \n",
    "            gc.collect()\n",
    "            torch.cuda.empty_cache()\n",
    "            del image, labels, label_len\n",
    "            del out1, out2, out3\n",
    "            \n",
    "            if (idx + 1) == n :\n",
    "                break\n",
    "                \n",
    "    return output\n",
    "\n",
    "\n",
    "def test_url_image(test_config, url, crop = False, crop_size = (0, 0, 1920, 1080)):\n",
    "    image = Image.open(urllib.request.urlopen(url))\n",
    "    if crop is True:\n",
    "        image = image.crop(crop_size)\n",
    "    image = np.array(image.resize((608, 608), Image.BILINEAR))[:, :, :3]\n",
    "    image = torch.from_numpy(image).unsqueeze(0).float() / 255\n",
    "    image = image.permute(0, 3, 1, 2)\n",
    "    \n",
    "    image = image.to(test_config['device'], dtype = test_config['dtype'])\n",
    "        \n",
    "    out1, out2, out3 = model(image)\n",
    "        \n",
    "    pred = torch.cat((out1, out2, out3), 1)\n",
    "        \n",
    "    output = {}\n",
    "    output['title'] = [url]\n",
    "    output['image'] = [image.permute(0, 2, 3, 1).cpu().squeeze(0).numpy()]\n",
    "    output['pred'] = [pred.cpu().detach().squeeze(0).numpy()]\n",
    "    output['label'] = []\n",
    "    output['n'] = 1\n",
    "        \n",
    "    return output\n",
    "\n",
    "\n",
    "def test_url_temp(test_config, url, crop = False, crop_size = (0, 0, 1920, 1080)):\n",
    "    image = Image.open(urllib.request.urlopen(url))\n",
    "    if crop is True:\n",
    "        image = image.crop(crop_size)\n",
    "    image = image.convert(\"L\")\n",
    "    image = np.array(image.resize((608, 608), Image.BILINEAR))[:, :]\n",
    "    image = np.array([image, image, image])\n",
    "    image = torch.from_numpy(image).unsqueeze(0).float() / 255\n",
    "    #image = image.permute(0, 3, 1, 2)\n",
    "    print(image.shape)\n",
    "    \n",
    "    image = image.to(test_config['device'], dtype = test_config['dtype'])\n",
    "        \n",
    "    out1, out2, out3 = model(image)\n",
    "        \n",
    "    pred = torch.cat((out1, out2, out3), 1)\n",
    "        \n",
    "    output = {}\n",
    "    output['title'] = [url]\n",
    "    output['image'] = [image.permute(0, 2, 3, 1).cpu().squeeze(0).numpy()]\n",
    "    output['pred'] = [pred.cpu().detach().squeeze(0).numpy()]\n",
    "    output['label'] = []\n",
    "    output['n'] = 1\n",
    "        \n",
    "    return output\n",
    "\n",
    "\n",
    "def iou(bbox1, bbox2):\n",
    "    w1 = bbox1[2]\n",
    "    h1 = bbox1[3]\n",
    "    \n",
    "    w2 = bbox1[2]\n",
    "    h2 = bbox1[3]\n",
    "    \n",
    "    left1 = bbox1[0] - w1 / 2\n",
    "    left2 = bbox2[0] - w2 / 2\n",
    "    right1 = bbox1[0] + w1 / 2\n",
    "    right2 = bbox2[0] + w2 / 2\n",
    "    top1 = bbox1[1] + h1 / 2\n",
    "    top2 = bbox2[1] + h2 / 2\n",
    "    bottom1 = bbox1[1] - h1 / 2\n",
    "    bottom2 = bbox2[1] - h2 / 2\n",
    "    \n",
    "    area1 = w1 * h1\n",
    "    area2 = w2 * h2\n",
    "    \n",
    "    w_intersect = min(right1, right2) - max(left1, left2)\n",
    "    h_intersect = min(top1, top2) - max(bottom1, bottom2)\n",
    "    area_intersect = h_intersect * w_intersect\n",
    "\n",
    "    iou_ = area_intersect / (area1 + area2 - area_intersect + 1e-9)\n",
    "    return iou_\n",
    "        \n",
    "def plot_pred(test_context, pred):\n",
    "    \n",
    "    tmp_context = {}\n",
    "    tmp_context['post_mAp'] = 0.5\n",
    "    tmp_context['post_iou_threshold'] = 0.3\n",
    "        \n",
    "    postprocessor = PostProcessor()\n",
    "    pred_boxes = postprocessor.GAS(torch.from_numpy(np.array(pred['pred'])), tmp_context)\n",
    "        \n",
    "    for indx in range(0, pred['n']):\n",
    "        if len(pred['title']) > indx and test_context['debug_level'] >= 1:\n",
    "            print('title : ', pred['title'][indx])\n",
    "        \n",
    "        p = pred['pred'][indx]\n",
    "        i = pred['image'][indx]\n",
    "        l = pred['label'][indx] if len(pred['label']) > indx else None\n",
    "        \n",
    "        \n",
    "        avg_boxes = pred_boxes[indx]\n",
    "        \n",
    "        _, ax = plt.subplots(1, 1, figsize=(6, 6))\n",
    "        ax.imshow(i)\n",
    "        for box_it in range(0, len(avg_boxes)):\n",
    "            bbox = avg_boxes[box_it]\n",
    "            \n",
    "            color = '%02x'% (255)\n",
    "            color = '#' + str(color) + str('00') + str('00')\n",
    "            \n",
    "            bounding = patches.Rectangle((bbox[0] - bbox[2] / 2, bbox[1] - bbox[3] / 2), bbox[2], bbox[3], \n",
    "                                 linewidth=1, edgecolor=color, facecolor='none')\n",
    "            ax.add_patch(bounding)\n",
    "        plt.show()\n",
    "        \n",
    "        # previous\n",
    "        #bbox_cnt = test_context['k']\n",
    "        #\n",
    "        #p_sorted = np.argsort(p[:, 4])[len(p) - bbox_cnt:]\n",
    "        #tmp = []\n",
    "        #for pred_it in p_sorted:\n",
    "        #    if p[pred_it][4] > test_context['threshold']:\n",
    "        #        tmp.append(pred_it)\n",
    "        #p_sorted = np.array(tmp)\n",
    "        #\n",
    "        #_, ax = plt.subplots(1, 1, figsize=(6, 6))\n",
    "        #ax.imshow(i)\n",
    "        #for box_it in range(len(p_sorted) - 1, -1, -1):\n",
    "        #    bbox = p[p_sorted[box_it]]\n",
    "        #    \n",
    "        #    color = '%02x'% (255 - (255 // (len(p_sorted)) * (len(p_sorted) - 1 - box_it)))\n",
    "        #    color = '#' + str(color) + str('00') + str('00')\n",
    "        #    \n",
    "        #    bounding = patches.Rectangle((bbox[0] - bbox[2] / 2, bbox[1] - bbox[3] / 2), bbox[2], bbox[3], \n",
    "        #                         linewidth=1, edgecolor=color, facecolor='none')\n",
    "        #    ax.add_patch(bounding)\n",
    "        #plt.show()\n",
    "        \n",
    "        gc.collect()\n",
    "        torch.cuda.empty_cache()"
   ]
  },
  {
   "cell_type": "code",
   "execution_count": null,
   "metadata": {
    "scrolled": false
   },
   "outputs": [],
   "source": [
    "pred = test_labels(test_context, test_config, 1)"
   ]
  },
  {
   "cell_type": "code",
   "execution_count": null,
   "metadata": {},
   "outputs": [],
   "source": [
    "plot_pred(test_context, pred)"
   ]
  },
  {
   "cell_type": "code",
   "execution_count": null,
   "metadata": {
    "scrolled": false
   },
   "outputs": [],
   "source": [
    "test_context['threshold'] = 0.5\n",
    "for _ in range(0, 5) :\n",
    "    test_context['dataset'].shuffle()\n",
    "    pred = test_labels(test_context, test_config, 1)\n",
    "    plot_pred(test_context, pred)\n",
    "    \n",
    "    gc.collect()\n",
    "    torch.cuda.empty_cache()"
   ]
  },
  {
   "cell_type": "code",
   "execution_count": null,
   "metadata": {
    "scrolled": false
   },
   "outputs": [],
   "source": [
    "\n",
    "\n",
    "with open(\"../data/detect/links/url_links.txt\", \"r\") as url_files:\n",
    "    gc.collect()\n",
    "    torch.cuda.empty_cache()\n",
    "    \n",
    "    lines = url_files.readlines()\n",
    "\n",
    "    test_context['k'] = 100\n",
    "    for url in lines:\n",
    "        try:\n",
    "            #url = 'http://dowase.net/blog/wp-content/uploads/2012/10/OdaCast.jpg'\n",
    "            print(url)\n",
    "            pred = test_url_image(test_config, url)\n",
    "        \n",
    "            test_context['threshold'] = 0.5\n",
    "            plot_pred(test_context, pred)\n",
    "            #test_context['threshold'] = 0.3\n",
    "            #plot_pred(test_context, pred)\n",
    "            #test_context['threshold'] = 0.1\n",
    "            #plot_pred(test_context, pred)\n",
    "        except urllib.error.HTTPError:\n",
    "            print('http error')"
   ]
  },
  {
   "cell_type": "code",
   "execution_count": null,
   "metadata": {},
   "outputs": [],
   "source": []
  },
  {
   "cell_type": "code",
   "execution_count": null,
   "metadata": {},
   "outputs": [],
   "source": []
  },
  {
   "cell_type": "code",
   "execution_count": null,
   "metadata": {},
   "outputs": [],
   "source": []
  },
  {
   "cell_type": "code",
   "execution_count": null,
   "metadata": {},
   "outputs": [],
   "source": []
  },
  {
   "cell_type": "code",
   "execution_count": null,
   "metadata": {},
   "outputs": [],
   "source": []
  },
  {
   "cell_type": "code",
   "execution_count": null,
   "metadata": {},
   "outputs": [],
   "source": []
  },
  {
   "cell_type": "code",
   "execution_count": null,
   "metadata": {},
   "outputs": [],
   "source": []
  },
  {
   "cell_type": "code",
   "execution_count": null,
   "metadata": {},
   "outputs": [],
   "source": []
  },
  {
   "cell_type": "code",
   "execution_count": null,
   "metadata": {},
   "outputs": [],
   "source": []
  },
  {
   "cell_type": "code",
   "execution_count": null,
   "metadata": {},
   "outputs": [],
   "source": []
  },
  {
   "cell_type": "code",
   "execution_count": null,
   "metadata": {
    "scrolled": false
   },
   "outputs": [],
   "source": []
  },
  {
   "cell_type": "code",
   "execution_count": null,
   "metadata": {},
   "outputs": [],
   "source": []
  },
  {
   "cell_type": "code",
   "execution_count": null,
   "metadata": {},
   "outputs": [],
   "source": []
  },
  {
   "cell_type": "code",
   "execution_count": null,
   "metadata": {
    "scrolled": true
   },
   "outputs": [],
   "source": []
  },
  {
   "cell_type": "code",
   "execution_count": null,
   "metadata": {
    "scrolled": false
   },
   "outputs": [],
   "source": []
  },
  {
   "cell_type": "code",
   "execution_count": null,
   "metadata": {},
   "outputs": [],
   "source": []
  },
  {
   "cell_type": "code",
   "execution_count": null,
   "metadata": {
    "scrolled": false
   },
   "outputs": [],
   "source": []
  },
  {
   "cell_type": "code",
   "execution_count": null,
   "metadata": {},
   "outputs": [],
   "source": []
  },
  {
   "cell_type": "code",
   "execution_count": null,
   "metadata": {
    "scrolled": false
   },
   "outputs": [],
   "source": []
  },
  {
   "cell_type": "code",
   "execution_count": null,
   "metadata": {},
   "outputs": [],
   "source": []
  },
  {
   "cell_type": "code",
   "execution_count": null,
   "metadata": {},
   "outputs": [],
   "source": []
  }
 ],
 "metadata": {
  "kernelspec": {
   "display_name": "Python 3",
   "language": "python",
   "name": "python3"
  },
  "language_info": {
   "codemirror_mode": {
    "name": "ipython",
    "version": 3
   },
   "file_extension": ".py",
   "mimetype": "text/x-python",
   "name": "python",
   "nbconvert_exporter": "python",
   "pygments_lexer": "ipython3",
   "version": "3.7.3"
  }
 },
 "nbformat": 4,
 "nbformat_minor": 2
}

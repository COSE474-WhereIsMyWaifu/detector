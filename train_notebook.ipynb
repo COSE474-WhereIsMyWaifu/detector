{
 "cells": [
  {
   "cell_type": "markdown",
   "metadata": {},
   "source": []
  },
  {
   "cell_type": "markdown",
   "metadata": {},
   "source": [
    "## Import & Environment Setting"
   ]
  },
  {
   "cell_type": "code",
   "execution_count": null,
   "metadata": {},
   "outputs": [],
   "source": [
    "import torch\n",
    "from torch import autograd\n",
    "from torch.utils.data import DataLoader\n",
    "\n",
    "import json\n",
    "import gc\n",
    "import numpy as np\n",
    "import datetime\n",
    "from collections import Counter\n",
    "\n",
    "from utils.dataset import LabeledDataset\n",
    "from utils.model import YoloV3, YoloLoss\n",
    "from utils.postprocess import PostProcessor\n"
   ]
  },
  {
   "cell_type": "code",
   "execution_count": null,
   "metadata": {},
   "outputs": [],
   "source": [
    "device = torch.device('cuda' if torch.cuda.is_available() else 'cpu')\n",
    "dtype = torch.float"
   ]
  },
  {
   "cell_type": "markdown",
   "metadata": {},
   "source": [
    "## Load Config"
   ]
  },
  {
   "cell_type": "code",
   "execution_count": null,
   "metadata": {},
   "outputs": [],
   "source": [
    "with open(\"./config/config.json\", \"r\") as config_file:\n",
    "    main_config = json.load(config_file)\n",
    "\n",
    "try:\n",
    "    model_config = main_config['model']\n",
    "    train_config = main_config['train']\n",
    "    valid_config = main_config['train']['validation']\n",
    "    loss_config = main_config['train']['loss']\n",
    "except NameError:\n",
    "    assert False, ('Failed to load config file')\n",
    "except KeyError:\n",
    "    assert False, ('Failed to find key on config file')"
   ]
  },
  {
   "cell_type": "code",
   "execution_count": null,
   "metadata": {},
   "outputs": [],
   "source": [
    "model_config['device'] = device\n",
    "model_config['dtype'] = dtype\n",
    "model_config['attrib_count'] = 5 + model_config['class_count']\n",
    "\n",
    "loss_config['device'] = device\n",
    "loss_config['dtype'] = dtype\n",
    "loss_config['attrib_count'] = model_config['attrib_count']"
   ]
  },
  {
   "cell_type": "code",
   "execution_count": null,
   "metadata": {},
   "outputs": [],
   "source": [
    "train_context = { }\n",
    "\n",
    "train_context['device'] = device\n",
    "train_context['dtype'] = dtype\n",
    "\n",
    "train_context['train_set'] = LabeledDataset(train_config['set']['index'], \n",
    "                                          train_config['set']['image_dir'], \n",
    "                                          train_config['set']['label_dir'])\n",
    "train_context['train_loader'] = DataLoader(train_context['train_set'], \n",
    "                                           batch_size = train_config['set']['batch_size'], \n",
    "                                           num_workers = train_config['set']['num_workers'],\n",
    "                                           shuffle = True)\n",
    "\n",
    "train_context['valid_set'] = LabeledDataset(valid_config['set']['index'], \n",
    "                                          valid_config['set']['image_dir'], \n",
    "                                          valid_config['set']['label_dir'])\n",
    "train_context['valid_loader'] = DataLoader(train_context['valid_set'], \n",
    "                                           batch_size = valid_config['set']['batch_size'], \n",
    "                                           num_workers = valid_config['set']['num_workers'],\n",
    "                                           shuffle = False)\n",
    "\n",
    "train_context['epoch'] = 0\n",
    "train_context['last_checkpoint'] = 0\n",
    "train_context['lr'] = train_config['plan']['lr_init']"
   ]
  },
  {
   "cell_type": "markdown",
   "metadata": {},
   "source": [
    "## Build"
   ]
  },
  {
   "cell_type": "code",
   "execution_count": null,
   "metadata": {
    "scrolled": true
   },
   "outputs": [],
   "source": [
    "model = YoloV3(model_config)\n",
    "model = model.to(model_config['device'])"
   ]
  },
  {
   "cell_type": "code",
   "execution_count": null,
   "metadata": {},
   "outputs": [],
   "source": [
    "loss_func = YoloLoss(loss_config)"
   ]
  },
  {
   "cell_type": "code",
   "execution_count": null,
   "metadata": {},
   "outputs": [],
   "source": [
    "lr_func = lambda epoch: train_context['lr']\n",
    "optimizer = torch.optim.Adam(model.parameters(), lr = train_context['lr'])\n",
    "#train_context['optimizer'] = torch.optim.SGD(model.parameters(), lr=learning_rate)\n",
    "scheduler = torch.optim.lr_scheduler.LambdaLR(optimizer, lr_lambda = lr_func, last_epoch = -1)"
   ]
  },
  {
   "cell_type": "code",
   "execution_count": null,
   "metadata": {},
   "outputs": [],
   "source": [
    "def train(model, loss_func, optimizer, scheduler, train_context, train_config, epochs):\n",
    "    \n",
    "    postProcessor = PostProcessor()\n",
    "    \n",
    "    if train_config['log']['tb_enable']:\n",
    "        from torch.utils.tensorboard import SummaryWriter\n",
    "        tb_writer = SummaryWriter(log_dir = train_config['log']['tb_dir'])\n",
    "    else:\n",
    "        tb_writer = None\n",
    "    \n",
    "    for _ in range(0, epochs):\n",
    "        # training step\n",
    "        model.train()\n",
    "        torch.autograd.set_detect_anomaly(train_config['enable_anomaly_detection'])\n",
    "        \n",
    "        if train_config['log']['console_enable']:\n",
    "            print('epoch : ', train_context['epoch'])\n",
    "            print('    time : ', datetime.datetime.now().time())\n",
    "            print('    lr : ', train_context['lr'])\n",
    "        if tb_writer is not None:\n",
    "            tb_writer.add_scalar('Step/Learning Rate', train_context['lr'], train_context['epoch'])\n",
    "        \n",
    "        losses = []\n",
    "        obj_losses = []\n",
    "        coord_losses = []\n",
    "        for idx, batches in enumerate(train_context['train_loader']):\n",
    "            image = batches['image'].to(train_context['device'], dtype = train_context['dtype'])\n",
    "            labels = batches['label'].to(train_context['device'], dtype = train_context['dtype'])\n",
    "            label_len = batches['label_len'].to(train_context['device'], dtype = torch.long)\n",
    "            \n",
    "            # forward\n",
    "            out1, out2, out3 = model(image)\n",
    "       \n",
    "            # clear optimizer\n",
    "            optimizer.zero_grad()\n",
    "        \n",
    "            # loss\n",
    "            loss, obj_loss, coord_loss = loss_func(torch.cat((out1, out2, out3), 1), labels, label_len)\n",
    "            losses.append(loss.item())\n",
    "            obj_losses.append(obj_loss.item())\n",
    "            coord_losses.append(coord_loss.item())\n",
    "            \n",
    "            # backward\n",
    "            loss.backward()\n",
    "            optimizer.step()\n",
    "            \n",
    "            # cleanup\n",
    "            del image, labels, label_len\n",
    "            del out1, out2, out3\n",
    "            del loss, obj_loss, coord_loss\n",
    "            gc.collect()\n",
    "            torch.cuda.empty_cache()\n",
    "    \n",
    "        # print loss\n",
    "        train_len = train_context['train_set'].__len__()\n",
    "        avg_loss = np.sum(losses) / train_len if len(losses) is not 0 else 0\n",
    "        avg_obj_loss = np.sum(obj_losses) / train_len if len(obj_losses) is not 0 else 0\n",
    "        avg_coord_loss = np.sum(coord_losses) / train_len if len(coord_losses) is not 0 else 0\n",
    "        \n",
    "        \n",
    "        if train_config['log']['console_enable']:\n",
    "            print('    t_loss : ', avg_loss)\n",
    "            print('    t_obj_loss : ', avg_obj_loss)\n",
    "            print('    t_coord_loss : ', avg_coord_loss)\n",
    "        if tb_writer is not None:\n",
    "            tb_writer.add_scalar('Loss/Training Loss', avg_loss, train_context['epoch'])\n",
    "            tb_writer.add_scalar('Loss/Training Object Loss', avg_obj_loss, train_context['epoch'])\n",
    "            tb_writer.add_scalar('Loss/Training Coord Loss', avg_coord_loss, train_context['epoch'])\n",
    "        \n",
    "\n",
    "        # validate step\n",
    "        with torch.no_grad():\n",
    "            model.eval()\n",
    "            torch.autograd.set_detect_anomaly(False)\n",
    "            \n",
    "            if train_config['validation']['target']['start_epoch'] <= train_context['epoch']:\n",
    "                enable_accuracy_test = True\n",
    "            else:\n",
    "                enable_accuracy_test = False\n",
    "                \n",
    "            losses = []\n",
    "            obj_losses = []\n",
    "            coord_losses = []\n",
    "            if enable_accuracy_test:\n",
    "                accs = Counter({})\n",
    "                \n",
    "            for idx, batches in enumerate(train_context['valid_loader']):\n",
    "                image = batches['image'].to(train_context['device'], dtype = train_context['dtype'])\n",
    "                labels = batches['label'].to(train_context['device'], dtype = train_context['dtype'])\n",
    "                label_len = batches['label_len'].to(train_context['device'], dtype = torch.long)\n",
    "            \n",
    "                out1, out2, out3 = model(image)\n",
    "                pred = torch.cat((out1, out2, out3), 1)\n",
    "        \n",
    "                loss, obj_loss, coord_loss = loss_func(pred, labels, label_len)\n",
    "                losses.append(loss.item())\n",
    "                obj_losses.append(obj_loss.item())\n",
    "                coord_losses.append(coord_loss.item())\n",
    "                \n",
    "                if enable_accuracy_test:\n",
    "                    prediction = {}\n",
    "                    prediction['pred'] = pred.cpu().detach().squeeze(0).numpy()\n",
    "                    prediction['label'] = batches['label'].cpu().squeeze(0).numpy()\n",
    "                    prediction['label_len'] = batches['label_len'].cpu().squeeze(0).numpy()\n",
    "                    \n",
    "                    post_config = train_config['validation']['post']\n",
    "                \n",
    "                    bboxes = postProcessor.CUSTOM1(prediction['pred'], post_config)\n",
    "                    acc = postProcessor.calcAccuracyMap(prediction['label'], prediction['label_len'], bboxes, post_config)\n",
    "                    accs = accs + Counter(acc)\n",
    "            \n",
    "                # cleanup\n",
    "                del image, labels, label_len\n",
    "                del out1, out2, out3\n",
    "                del loss, obj_loss, coord_loss\n",
    "                if enable_accuracy_test:\n",
    "                    del prediction, bboxes\n",
    "                gc.collect()\n",
    "                torch.cuda.empty_cache()\n",
    "    \n",
    "            # print validation loss\n",
    "            valid_len = train_context['valid_set'].__len__()\n",
    "            avg_loss = np.sum(losses) / valid_len if len(losses) is not 0 else 0\n",
    "            avg_obj_loss = np.sum(obj_losses) / valid_len if len(obj_losses) is not 0 else 0\n",
    "            avg_coord_loss = np.sum(coord_losses) / valid_len if len(coord_losses) is not 0 else 0\n",
    "                \n",
    "            if train_config['log']['console_enable']:\n",
    "                print('    v_loss : ', avg_loss)\n",
    "                print('    v_obj_loss  : ', avg_obj_loss)\n",
    "                print('    v_coord_loss  : ', avg_coord_loss)\n",
    "                \n",
    "            if tb_writer is not None:\n",
    "                tb_writer.add_scalar('Loss/Validation Loss', avg_loss, train_context['epoch'])\n",
    "                tb_writer.add_scalar('Loss/Validation Object Loss', avg_obj_loss, train_context['epoch'])\n",
    "                tb_writer.add_scalar('Loss/Validation Coord Loss', avg_coord_loss, train_context['epoch'])\n",
    "                    \n",
    "            if enable_accuracy_test:\n",
    "                tp = accs['true positive']\n",
    "                fn = accs['false negative']\n",
    "                fp = accs['false positive'] + accs['duplicate']\n",
    "                accuracy = tp / (tp + fn + fp)\n",
    "                recall = tp / (tp + fn)\n",
    "                precision = tp / (tp + fp)\n",
    "                \n",
    "                # print accuracy\n",
    "                if train_config['log']['console_enable']:\n",
    "                    print('    accs : ', accs)\n",
    "                    print('    accuracy : ', accuracy)\n",
    "                    print('    recall : ', recall)\n",
    "                    print('    precision : ', precision)\n",
    "                if tb_writer is not None:\n",
    "                    tb_writer.add_scalar('Accuracy/Accuracy', accuracy, train_context['epoch'])\n",
    "                    tb_writer.add_scalar('Accuracy/Recall', recall, train_context['epoch'])\n",
    "                    tb_writer.add_scalar('Accuracy/Precision', precision, train_context['epoch'])\n",
    "                        \n",
    "                # save model if matching target\n",
    "                if (accuracy >= train_config['validation']['target']['accuracy'] and \n",
    "                    recall >= train_config['validation']['target']['recall'] and \n",
    "                    precision >= train_config['validation']['target']['precision']):\n",
    "                    \n",
    "                    output_dir = train_config['validation']['target']['save_dir']\n",
    "                    model_name = train_config['validation']['target']['model_prefix'] + str(train_context['epoch'])\n",
    "                    torch.save(model, output_dir + model_name + '.dat')\n",
    "                            \n",
    "        # save model\n",
    "        chkpoint_start = train_config['checkpoint']['start_epoch']\n",
    "        chkpoint_interval = train_config['checkpoint']['interval_epoch']\n",
    "        if (train_context['epoch'] >= chkpoint_start and \n",
    "            (train_context['epoch'] - chkpoint_start) % chkpoint_interval is 0):\n",
    "            \n",
    "            train_context['last_checkpoint'] = train_config['checkpoint']\n",
    "                    \n",
    "            output_dir = train_config['checkpoint']['save_dir']\n",
    "            model_name = train_config['checkpoint']['model_prefix'] + str(train_context['epoch'])\n",
    "            torch.save(model, output_dir + model_name + '.dat')\n",
    "            \n",
    "        # update context\n",
    "        if train_context['epoch'] >= train_config['plan']['lr_decay_start_epoch']:\n",
    "            train_context['lr'] = train_context['lr'] * train_config['plan']['lr_decay_rate']\n",
    "            \n",
    "        scheduler.step()\n",
    "        \n",
    "        train_context['epoch'] += 1"
   ]
  },
  {
   "cell_type": "markdown",
   "metadata": {},
   "source": [
    "## Run"
   ]
  },
  {
   "cell_type": "code",
   "execution_count": null,
   "metadata": {
    "scrolled": true
   },
   "outputs": [],
   "source": [
    "train(model, loss_func, optimizer, scheduler, train_context, train_config, train_config['plan']['epochs'])\n",
    "if writer is not None:\n",
    "    writer.flush()\n",
    "    writer.close()"
   ]
  },
  {
   "cell_type": "markdown",
   "metadata": {},
   "source": [
    "## Temporary Code"
   ]
  },
  {
   "cell_type": "code",
   "execution_count": null,
   "metadata": {},
   "outputs": [],
   "source": [
    "model = torch.load('./model/run15/model_90.dat')\n",
    "model.to(device)"
   ]
  },
  {
   "cell_type": "code",
   "execution_count": null,
   "metadata": {},
   "outputs": [],
   "source": [
    "train_context['lr'] = 0.04529654640967404\n",
    "train_context['epoch'] = 91\n",
    "print(train_context)"
   ]
  },
  {
   "cell_type": "code",
   "execution_count": null,
   "metadata": {},
   "outputs": [],
   "source": []
  }
 ],
 "metadata": {
  "kernelspec": {
   "display_name": "Python 3",
   "language": "python",
   "name": "python3"
  },
  "language_info": {
   "codemirror_mode": {
    "name": "ipython",
    "version": 3
   },
   "file_extension": ".py",
   "mimetype": "text/x-python",
   "name": "python",
   "nbconvert_exporter": "python",
   "pygments_lexer": "ipython3",
   "version": "3.7.3"
  }
 },
 "nbformat": 4,
 "nbformat_minor": 2
}

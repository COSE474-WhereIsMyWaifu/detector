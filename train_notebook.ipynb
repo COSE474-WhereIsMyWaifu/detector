{
 "cells": [
  {
   "cell_type": "markdown",
   "metadata": {},
   "source": []
  },
  {
   "cell_type": "markdown",
   "metadata": {},
   "source": [
    "## Import & Environment Setting"
   ]
  },
  {
   "cell_type": "code",
   "execution_count": null,
   "metadata": {},
   "outputs": [],
   "source": [
    "import torch\n",
    "from torch import autograd\n",
    "from torch.utils.data import DataLoader\n",
    "from torch.utils.tensorboard import SummaryWriter\n",
    "\n",
    "import json\n",
    "import gc\n",
    "import numpy as np\n",
    "import datetime\n",
    "from collections import Counter\n",
    "\n",
    "from utils.dataset import DetectionFolder\n",
    "from utils.model import YoloV3, YoloLoss\n",
    "from utils.postprocess import PostProcessor\n"
   ]
  },
  {
   "cell_type": "code",
   "execution_count": null,
   "metadata": {},
   "outputs": [],
   "source": [
    "device = torch.device('cuda' if torch.cuda.is_available() else 'cpu')\n",
    "dtype = torch.float"
   ]
  },
  {
   "cell_type": "markdown",
   "metadata": {},
   "source": [
    "## Load Config"
   ]
  },
  {
   "cell_type": "code",
   "execution_count": null,
   "metadata": {},
   "outputs": [],
   "source": [
    "with open(\"./config/config.json\", \"r\") as config_file:\n",
    "    main_config = json.load(config_file)\n",
    "\n",
    "try:\n",
    "    model_config = main_config['model']\n",
    "    loss_config = main_config['loss']\n",
    "    train_config = main_config['train']\n",
    "except NameError:\n",
    "    assert False, ('Failed to load config file')\n",
    "except KeyError:\n",
    "    assert False, ('Failed to find key on config file')"
   ]
  },
  {
   "cell_type": "code",
   "execution_count": null,
   "metadata": {},
   "outputs": [],
   "source": [
    "model_config['device'] = device\n",
    "model_config['dtype'] = dtype\n",
    "model_config['attrib_count'] = 5 + model_config['class_count']\n",
    "\n",
    "loss_config['device'] = device\n",
    "loss_config['dtype'] = dtype\n",
    "loss_config['attrib_count'] = model_config['attrib_count']\n",
    "\n",
    "train_config['device'] = device\n",
    "train_config['dtype'] = dtype\n"
   ]
  },
  {
   "cell_type": "code",
   "execution_count": null,
   "metadata": {},
   "outputs": [],
   "source": [
    "if train_config['use_tensorboard']:\n",
    "    writer = SummaryWriter(log_dir=train_config['tensorboard_dir'])\n",
    "else:\n",
    "    writer = None"
   ]
  },
  {
   "cell_type": "markdown",
   "metadata": {},
   "source": [
    "## Build"
   ]
  },
  {
   "cell_type": "code",
   "execution_count": null,
   "metadata": {
    "scrolled": true
   },
   "outputs": [],
   "source": [
    "model = YoloV3(model_config)\n",
    "model.to(model_config['device'])"
   ]
  },
  {
   "cell_type": "code",
   "execution_count": null,
   "metadata": {},
   "outputs": [],
   "source": [
    "loss_func = YoloLoss(loss_config)"
   ]
  },
  {
   "cell_type": "code",
   "execution_count": null,
   "metadata": {},
   "outputs": [],
   "source": [
    "train_context = { }\n",
    "\n",
    "train_context['dataset'] = DetectionFolder(train_config['train_list'], train_config['train_image'], train_config['train_label'])\n",
    "train_context['dataloader'] = DataLoader(train_context['dataset'], batch_size = train_config['batch_size'], num_workers = 4)\n",
    "train_context['val_dataset'] = DetectionFolder(train_config['val_list'], train_config['train_image'], train_config['train_label'])\n",
    "train_context['val_dataloader'] = DataLoader(train_context['val_dataset'], batch_size = 1, num_workers = 4)\n",
    "\n",
    "train_context['epoch'] = 0\n",
    "train_context['last_checkpoint'] = 0\n",
    "train_context['target_accuaracy'] = train_config['target_accuaracy']\n",
    "train_context['target_recall'] = train_config['target_recall']\n",
    "train_context['target_precision'] = train_config['target_precision']\n",
    "\n",
    "train_context['lr'] = train_config['init_lr']\n",
    "train_context['loss_window'] = []\n",
    "\n",
    "\n",
    "loss_context = { }\n",
    "loss_context['post_conf_threshold'] = loss_config['post_conf_threshold']\n",
    "loss_context['post_iou_threshold'] = loss_config['post_iou_threshold']\n",
    "loss_context['acc_iou_threshold'] = loss_config['acc_iou_threshold']\n",
    "loss_context['acc_start_epoch'] = loss_config['acc_start_epoch']"
   ]
  },
  {
   "cell_type": "code",
   "execution_count": null,
   "metadata": {},
   "outputs": [],
   "source": [
    "\n",
    "lr_func = lambda epoch: train_context['lr']\n",
    "optimizer = torch.optim.Adam(model.parameters(), lr = train_context['lr'])\n",
    "#train_context['optimizer'] = torch.optim.SGD(model.parameters(), lr=learning_rate)\n",
    "scheduler = torch.optim.lr_scheduler.LambdaLR(optimizer, lr_lambda = lr_func, last_epoch = -1)"
   ]
  },
  {
   "cell_type": "code",
   "execution_count": null,
   "metadata": {},
   "outputs": [],
   "source": [
    "def train(model, loss_func, optimizer, scheduler, train_context, train_config, loss_context, epochs, tb_writer=None):\n",
    "    \n",
    "    postProcessor = PostProcessor()\n",
    "    \n",
    "    for _ in range(0, epochs):\n",
    "        # training step\n",
    "        model.train()\n",
    "        torch.autograd.set_detect_anomaly(train_config['use_anomaly_detection'])\n",
    "        \n",
    "        print('epoch : ', train_context['epoch'])\n",
    "        print('    time : ', datetime.datetime.now().time())\n",
    "        print('    lr : ', train_context['lr'])\n",
    "        if train_config['use_tensorboard'] and tb_writer is not None:\n",
    "            tb_writer.add_scalar('Step/Learning Rate', train_context['lr'], train_context['epoch'])\n",
    "        \n",
    "        losses = []\n",
    "        for idx, batches in enumerate(train_context['dataloader']):\n",
    "            image = batches['image'].to(train_config['device'], dtype = train_config['dtype'])\n",
    "            labels = batches['label'].to(train_config['device'], dtype = train_config['dtype'])\n",
    "            label_len = batches['label_len'].to(train_config['device'], dtype = torch.long)\n",
    "            \n",
    "            # forward\n",
    "            out1, out2, out3 = model(image)\n",
    "       \n",
    "            # clear optimizer\n",
    "            optimizer.zero_grad()\n",
    "        \n",
    "            # loss\n",
    "            loss = loss_func(torch.cat((out1, out2, out3), 1), labels, label_len)\n",
    "            losses.append(loss.item() / train_config['batch_size'])\n",
    "            \n",
    "            # backward\n",
    "            loss.backward()\n",
    "            optimizer.step()\n",
    "            \n",
    "            # cleanup\n",
    "            del image, labels, label_len, loss\n",
    "            del out1, out2, out3\n",
    "            gc.collect()\n",
    "            torch.cuda.empty_cache()\n",
    "    \n",
    "        # print loss\n",
    "        avg_loss = np.mean(losses) if len(losses) is not 0 else 0\n",
    "        train_context['loss_window'].append(avg_loss)\n",
    "        print('    loss : ', avg_loss)\n",
    "        if train_config['use_tensorboard'] and tb_writer is not None:\n",
    "            tb_writer.add_scalar('Loss/Training Loss', avg_loss, train_context['epoch'])\n",
    "            tb_writer.add_scalar('Step/Window Size', len(train_context['loss_window']), train_context['epoch'])\n",
    "        \n",
    "\n",
    "        # validate step\n",
    "        if 'val_dataset' in train_context and train_context['val_dataset'] is not None:\n",
    "            with torch.no_grad():\n",
    "                model.eval()\n",
    "                torch.autograd.set_detect_anomaly(False)\n",
    "            \n",
    "                losses = []\n",
    "                if loss_context['acc_start_epoch'] < train_context['epoch']:\n",
    "                    accs = Counter({})\n",
    "                for idx, batches in enumerate(train_context['val_dataloader']):\n",
    "                \n",
    "                    image = batches['image'].to(train_config['device'], dtype = train_config['dtype'])\n",
    "                    labels = batches['label'].to(train_config['device'], dtype = train_config['dtype'])\n",
    "                    label_len = batches['label_len'].to(train_config['device'], dtype = torch.long)\n",
    "            \n",
    "                    out1, out2, out3 = model(image)\n",
    "                    pred = torch.cat((out1, out2, out3), 1)\n",
    "        \n",
    "                    loss = loss_func(pred, labels, label_len)\n",
    "                    losses.append(loss.item())\n",
    "                \n",
    "                    if loss_context['acc_start_epoch'] < train_context['epoch']:\n",
    "                        prediction = {}\n",
    "                        prediction['image'] = batches['image'].cpu().permute(0, 2, 3, 1).squeeze(0).numpy()\n",
    "                        prediction['pred'] = pred.cpu().detach().squeeze(0).numpy()\n",
    "                        prediction['label'] = batches['label'].cpu().squeeze(0).numpy()\n",
    "                        prediction['label_len'] = batches['label_len'].cpu().squeeze(0).numpy()\n",
    "                \n",
    "                        bboxes = postProcessor.CUSTOM2(prediction['pred'], loss_context)\n",
    "                        acc = postProcessor.calcAccuracyMap(prediction['label'], prediction['label_len'], bboxes, loss_context)\n",
    "                        accs = accs + Counter(acc)\n",
    "            \n",
    "                    # cleanup\n",
    "                    del image, labels, label_len, loss\n",
    "                    if loss_context['acc_start_epoch'] < train_context['epoch']:\n",
    "                        del prediction, bboxes, acc\n",
    "                    del out1, out2, out3\n",
    "                    gc.collect()\n",
    "                    torch.cuda.empty_cache()\n",
    "    \n",
    "                # print validation loss\n",
    "                avg_loss = np.mean(losses) if len(losses) is not 0 else 0\n",
    "                print('    validation loss : ', avg_loss)\n",
    "                if loss_context['acc_start_epoch'] < train_context['epoch']:\n",
    "                    print('    accs : ', accs)\n",
    "                if train_config['use_tensorboard'] and tb_writer is not None:\n",
    "                    tb_writer.add_scalar('Loss/Validation Loss', avg_loss, train_context['epoch'])\n",
    "                    \n",
    "                    if loss_context['acc_start_epoch'] < train_context['epoch']:\n",
    "                        tp = accs['true positive']\n",
    "                        fn = accs['false negative']\n",
    "                        fp = accs['false positive'] + accs['duplicate']\n",
    "                        accuracy = tp / (tp + fn + fp)\n",
    "                        recall = tp / (tp + fn)\n",
    "                        precision = tp / (tp + fp)\n",
    "                        print('    accuracy : ', accuracy)\n",
    "                        print('    recall : ', recall)\n",
    "                        print('    precision : ', precision)\n",
    "                        tb_writer.add_scalar('Accuracy/Accuracy', accuracy, train_context['epoch'])\n",
    "                        tb_writer.add_scalar('Accuracy/Recall', recall, train_context['epoch'])\n",
    "                        tb_writer.add_scalar('Accuracy/Precision', precision, train_context['epoch'])\n",
    "                        \n",
    "                        if(accuracy >= train_context['target_accuaracy'] and \n",
    "                           recall >= train_context['target_recall'] and \n",
    "                           precision >= train_context['target_precision']):\n",
    "                            # save model\n",
    "                            torch.save(model, train_config['checkpoint_dir'] + 'model_r_' + str(train_context['epoch']) + '.dat')\n",
    "                            \n",
    "                \n",
    "                \n",
    "            \n",
    "        # update learning rate & scheduler\n",
    "        #window_len = len(train_context['loss_window'])\n",
    "        #if (len(train_context['loss_window']) >= train_config['lr_window'] and\n",
    "        #    np.mean(train_context['loss_window']) * train_config['lr_threshold'] <= np.mean(train_context['loss_window'][-2:])):\n",
    "            \n",
    "        #    print('    window size : ', len(train_context['loss_window']))\n",
    "        #    print('    decrease lr to : ', train_context['lr'] * train_config['lr_decay'])\n",
    "                \n",
    "        #    train_context['lr'] = train_context['lr'] * train_config['lr_decay']\n",
    "        #    train_context['loss_window'] = []\n",
    "            \n",
    "        #if len(train_context['loss_window']) > 2 * train_config['lr_window']:\n",
    "        #    train_context['loss_window'] = train_context['loss_window'][(train_config['lr_window'] * 3) // 2:]\n",
    "        if train_context['epoch'] > 80:\n",
    "            train_context['lr'] = train_context['lr'] * 0.97\n",
    "            train_context['loss_window'] = []\n",
    "        \n",
    "        scheduler.step()\n",
    "        \n",
    "        # update context\n",
    "        train_context['dataset'].shuffle()\n",
    "        train_context['epoch'] += 1\n",
    "        \n",
    "        # save model\n",
    "        if (train_context['epoch'] > train_config['checkpoint_start'] \n",
    "            and train_context['epoch'] % train_config['checkpoint'] is 0):\n",
    "            train_context['last_checkpoint'] = train_config['checkpoint']\n",
    "            torch.save(model, train_config['checkpoint_dir'] + 'model_' + str(train_context['epoch']) + '.dat')\n",
    "            "
   ]
  },
  {
   "cell_type": "markdown",
   "metadata": {},
   "source": [
    "## Run"
   ]
  },
  {
   "cell_type": "code",
   "execution_count": null,
   "metadata": {
    "scrolled": true
   },
   "outputs": [],
   "source": [
    "train(model, loss_func, optimizer, scheduler, train_context, train_config, loss_context, train_config['epochs'], writer)\n",
    "if writer is not None:\n",
    "    writer.flush()\n",
    "    writer.close()"
   ]
  },
  {
   "cell_type": "markdown",
   "metadata": {},
   "source": [
    "## Temporary Code"
   ]
  },
  {
   "cell_type": "code",
   "execution_count": null,
   "metadata": {},
   "outputs": [],
   "source": []
  }
 ],
 "metadata": {
  "kernelspec": {
   "display_name": "Python 3",
   "language": "python",
   "name": "python3"
  },
  "language_info": {
   "codemirror_mode": {
    "name": "ipython",
    "version": 3
   },
   "file_extension": ".py",
   "mimetype": "text/x-python",
   "name": "python",
   "nbconvert_exporter": "python",
   "pygments_lexer": "ipython3",
   "version": "3.7.3"
  }
 },
 "nbformat": 4,
 "nbformat_minor": 2
}

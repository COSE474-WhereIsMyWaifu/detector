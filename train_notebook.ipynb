{
 "cells": [
  {
   "cell_type": "markdown",
   "metadata": {},
   "source": []
  },
  {
   "cell_type": "markdown",
   "metadata": {},
   "source": [
    "## Import & Environment Setting"
   ]
  },
  {
   "cell_type": "code",
   "execution_count": null,
   "metadata": {},
   "outputs": [],
   "source": [
    "import torch\n",
    "from torch import autograd\n",
    "from torch.utils.data import DataLoader\n",
    "\n",
    "import json\n",
    "import gc\n",
    "import numpy as np\n",
    "import datetime\n",
    "from collections import Counter\n",
    "\n",
    "from utils.dataset import LabeledDataset\n",
    "from utils.model import YoloV3, YoloLoss\n",
    "from utils.postprocess import PostProcessor\n"
   ]
  },
  {
   "cell_type": "code",
   "execution_count": null,
   "metadata": {},
   "outputs": [],
   "source": [
    "device = torch.device('cuda' if torch.cuda.is_available() else 'cpu')\n",
    "dtype = torch.float"
   ]
  },
  {
   "cell_type": "markdown",
   "metadata": {},
   "source": [
    "## Load Config"
   ]
  },
  {
   "cell_type": "code",
   "execution_count": null,
   "metadata": {},
   "outputs": [],
   "source": [
    "with open(\"./config/config.json\", \"r\") as config_file:\n",
    "    main_config = json.load(config_file)\n",
    "\n",
    "try:\n",
    "    model_config = main_config['model']\n",
    "    train_config = main_config['train']\n",
    "    valid_config = main_config['train']['validation']\n",
    "    loss_config = main_config['train']['loss']\n",
    "except NameError:\n",
    "    assert False, ('Failed to load config file')\n",
    "except KeyError:\n",
    "    assert False, ('Failed to find key on config file')"
   ]
  },
  {
   "cell_type": "code",
   "execution_count": null,
   "metadata": {},
   "outputs": [],
   "source": [
    "model_config['device'] = device\n",
    "model_config['dtype'] = dtype\n",
    "model_config['attrib_count'] = 5 + model_config['class_count']\n",
    "\n",
    "loss_config['device'] = device\n",
    "loss_config['dtype'] = dtype\n",
    "loss_config['attrib_count'] = model_config['attrib_count']"
   ]
  },
  {
   "cell_type": "code",
   "execution_count": null,
   "metadata": {},
   "outputs": [],
   "source": [
    "train_context = { }\n",
    "\n",
    "train_context['device'] = device\n",
    "train_context['dtype'] = dtype\n",
    "\n",
    "train_context['train_set'] = LabeledDataset(train_config['set']['index'], \n",
    "                                          train_config['set']['image_dir'], \n",
    "                                          train_config['set']['label_dir'])\n",
    "train_context['train_loader'] = DataLoader(train_context['train_set'], \n",
    "                                           batch_size = train_config['set']['batch_size'], \n",
    "                                           num_workers = train_config['set']['num_workers'],\n",
    "                                           shuffle = True)\n",
    "\n",
    "train_context['valid_set'] = LabeledDataset(valid_config['set']['index'], \n",
    "                                          valid_config['set']['image_dir'], \n",
    "                                          valid_config['set']['label_dir'])\n",
    "train_context['valid_loader'] = DataLoader(train_context['valid_set'], \n",
    "                                           batch_size = valid_config['set']['batch_size'], \n",
    "                                           num_workers = valid_config['set']['num_workers'],\n",
    "                                           shuffle = False)\n",
    "\n",
    "train_context['epoch'] = 0\n",
    "train_context['last_checkpoint'] = 0\n",
    "train_context['lr'] = train_config['learning_rate']['init']"
   ]
  },
  {
   "cell_type": "code",
   "execution_count": null,
   "metadata": {},
   "outputs": [],
   "source": [
    "if train_config['log']['tb_enable']:\n",
    "    from torch.utils.tensorboard import SummaryWriter\n",
    "    train_context['tb'] = SummaryWriter(log_dir = train_config['log']['tb_dir'])\n",
    "else:\n",
    "    train_context['tb'] = None"
   ]
  },
  {
   "cell_type": "markdown",
   "metadata": {},
   "source": [
    "## Build"
   ]
  },
  {
   "cell_type": "code",
   "execution_count": null,
   "metadata": {
    "scrolled": true
   },
   "outputs": [],
   "source": [
    "model = YoloV3(model_config)\n",
    "model = model.to(model_config['device'])"
   ]
  },
  {
   "cell_type": "code",
   "execution_count": null,
   "metadata": {},
   "outputs": [],
   "source": [
    "loss_func = YoloLoss(loss_config)"
   ]
  },
  {
   "cell_type": "code",
   "execution_count": null,
   "metadata": {},
   "outputs": [],
   "source": [
    "lr_func = lambda epoch: train_context['lr']\n",
    "optimizer = torch.optim.Adam(model.parameters(), lr = train_context['lr'])\n",
    "#train_context['optimizer'] = torch.optim.SGD(model.parameters(), lr=learning_rate)\n",
    "scheduler = torch.optim.lr_scheduler.LambdaLR(optimizer, lr_lambda = lr_func, last_epoch = -1)"
   ]
  },
  {
   "cell_type": "code",
   "execution_count": null,
   "metadata": {},
   "outputs": [],
   "source": [
    "def train(model, loss_func, optimizer, scheduler, train_context, train_config, epochs):\n",
    "    \n",
    "    postProcessor = PostProcessor()\n",
    "    \n",
    "    for _ in range(0, epochs):\n",
    "        # training step\n",
    "        model.train()\n",
    "        torch.autograd.set_detect_anomaly(train_config['enable_anomaly_detection'])\n",
    "        \n",
    "        print('epoch : ', train_context['epoch'])\n",
    "        print('    time : ', datetime.datetime.now().time())\n",
    "        print('    lr : ', train_context['lr'])\n",
    "        if train_context['tb'] is not None:\n",
    "            train_context['tb'].add_scalar('Step/Learning Rate', train_context['lr'], train_context['epoch'])\n",
    "        \n",
    "        losses = []\n",
    "        obj_losses = []\n",
    "        coord_losses = []\n",
    "        for idx, batches in enumerate(train_context['train_loader']):\n",
    "            image = batches['image'].to(train_context['device'], dtype = train_context['dtype'])\n",
    "            labels = batches['label'].to(train_context['device'], dtype = train_context['dtype'])\n",
    "            label_len = batches['label_len'].to(train_context['device'], dtype = torch.long)\n",
    "            \n",
    "            # forward\n",
    "            out1, out2, out3 = model(image)\n",
    "       \n",
    "            # clear optimizer\n",
    "            optimizer.zero_grad()\n",
    "        \n",
    "            # loss\n",
    "            loss, obj_loss, coord_loss = loss_func(torch.cat((out1, out2, out3), 1), labels, label_len)\n",
    "            losses.append(loss.item() / batches['image'].shape[0])\n",
    "            obj_losses.append(obj_loss.item() / batches['image'].shape[0])\n",
    "            coord_losses.append(coord_loss.item() / batches['image'].shape[0])\n",
    "            \n",
    "            # backward\n",
    "            loss.backward()\n",
    "            optimizer.step()\n",
    "            \n",
    "            # cleanup\n",
    "            del image, labels, label_len, loss\n",
    "            del out1, out2, out3\n",
    "            gc.collect()\n",
    "            torch.cuda.empty_cache()\n",
    "    \n",
    "        # print loss\n",
    "        avg_loss = np.mean(losses) if len(losses) is not 0 else 0\n",
    "        avg_obj_loss = np.mean(obj_losses) if len(obj_losses) is not 0 else 0\n",
    "        avg_coord_loss = np.mean(coord_losses) if len(coord_losses) is not 0 else 0\n",
    "        train_context['loss_window'].append(avg_loss)\n",
    "        print('    loss : ', avg_loss)\n",
    "        print('    obj_loss : ', avg_obj_loss)\n",
    "        print('    coord_loss : ', avg_coord_loss)\n",
    "        if train_context['tb'] is not None:\n",
    "            train_context['tb'].add_scalar('Loss/Training Loss', avg_loss, train_context['epoch'])\n",
    "            train_context['tb'].add_scalar('Loss/Training Object Loss', avg_obj_loss, train_context['epoch'])\n",
    "            train_context['tb'].add_scalar('Loss/Training Coord Loss', avg_coord_loss, train_context['epoch'])\n",
    "        \n",
    "\n",
    "        # validate step\n",
    "        if 'val_dataset' in train_context and train_context['val_dataset'] is not None:\n",
    "            with torch.no_grad():\n",
    "                model.eval()\n",
    "                torch.autograd.set_detect_anomaly(False)\n",
    "            \n",
    "                losses = []\n",
    "                obj_losses = []\n",
    "                coord_losses = []\n",
    "                if loss_context['acc_start_epoch'] < train_context['epoch']:\n",
    "                    accs = Counter({})\n",
    "                for idx, batches in enumerate(train_context['val_dataloader']):\n",
    "                \n",
    "                    image = batches['image'].to(train_config['device'], dtype = train_config['dtype'])\n",
    "                    labels = batches['label'].to(train_config['device'], dtype = train_config['dtype'])\n",
    "                    label_len = batches['label_len'].to(train_config['device'], dtype = torch.long)\n",
    "            \n",
    "                    out1, out2, out3 = model(image)\n",
    "                    pred = torch.cat((out1, out2, out3), 1)\n",
    "        \n",
    "                    loss, obj_loss, coord_loss = loss_func(pred, labels, label_len)\n",
    "                    losses.append(loss.item() / batches['image'].shape[0])\n",
    "                    obj_losses.append(obj_loss.item() / batches['image'].shape[0])\n",
    "                    coord_losses.append(coord_loss.item() / batches['image'].shape[0])\n",
    "                \n",
    "                    if loss_context['acc_start_epoch'] < train_context['epoch']:\n",
    "                        prediction = {}\n",
    "                        prediction['image'] = batches['image'].cpu().permute(0, 2, 3, 1).squeeze(0).numpy()\n",
    "                        prediction['pred'] = pred.cpu().detach().squeeze(0).numpy()\n",
    "                        prediction['label'] = batches['label'].cpu().squeeze(0).numpy()\n",
    "                        prediction['label_len'] = batches['label_len'].cpu().squeeze(0).numpy()\n",
    "                \n",
    "                        bboxes = postProcessor.CUSTOM2(prediction['pred'], loss_context)\n",
    "                        acc = postProcessor.calcAccuracyMap(prediction['label'], prediction['label_len'], bboxes, loss_context)\n",
    "                        accs = accs + Counter(acc)\n",
    "            \n",
    "                    # cleanup\n",
    "                    del image, labels, label_len, loss\n",
    "                    if loss_context['acc_start_epoch'] < train_context['epoch']:\n",
    "                        del prediction, bboxes, acc\n",
    "                    del out1, out2, out3\n",
    "                    gc.collect()\n",
    "                    torch.cuda.empty_cache()\n",
    "    \n",
    "                # print validation loss\n",
    "                avg_loss = np.mean(losses) if len(losses) is not 0 else 0\n",
    "                avg_obj_loss = np.mean(obj_losses) if len(obj_losses) is not 0 else 0\n",
    "                avg_coord_loss = np.mean(coord_losses) if len(coord_losses) is not 0 else 0\n",
    "                print('    validation loss : ', avg_loss)\n",
    "                if loss_context['acc_start_epoch'] < train_context['epoch']:\n",
    "                    print('    accs : ', accs)\n",
    "                if train_context['tb'] is not None:\n",
    "                    train_context['tb'].add_scalar('Loss/Validation Loss', avg_loss, train_context['epoch'])\n",
    "                    train_context['tb'].add_scalar('Loss/Validation Object Loss', avg_obj_loss, train_context['epoch'])\n",
    "                    train_context['tb'].add_scalar('Loss/Validation Coord Loss', avg_coord_loss, train_context['epoch'])\n",
    "                    \n",
    "                    if loss_context['acc_start_epoch'] < train_context['epoch']:\n",
    "                        tp = accs['true positive']\n",
    "                        fn = accs['false negative']\n",
    "                        fp = accs['false positive'] + accs['duplicate']\n",
    "                        accuracy = tp / (tp + fn + fp)\n",
    "                        recall = tp / (tp + fn)\n",
    "                        precision = tp / (tp + fp)\n",
    "                        print('    accuracy : ', accuracy)\n",
    "                        print('    recall : ', recall)\n",
    "                        print('    precision : ', precision)\n",
    "                        train_context['tb'].add_scalar('Accuracy/Accuracy', accuracy, train_context['epoch'])\n",
    "                        train_context['tb'].add_scalar('Accuracy/Recall', recall, train_context['epoch'])\n",
    "                        train_context['tb'].add_scalar('Accuracy/Precision', precision, train_context['epoch'])\n",
    "                        \n",
    "                        if(accuracy >= train_config['target_accuaracy'] and \n",
    "                           recall >= train_config['target_recall'] and \n",
    "                           precision >= train_config['target_precision']):\n",
    "                            # save model\n",
    "                            torch.save(model, train_config['checkpoint_dir'] + 'model_r_' + str(train_context['epoch']) + '.dat')\n",
    "                            \n",
    "                \n",
    "                \n",
    "            \n",
    "        # update learning rate & scheduler\n",
    "        #window_len = len(train_context['loss_window'])\n",
    "        #if (len(train_context['loss_window']) >= train_config['lr_window'] and\n",
    "        #    np.mean(train_context['loss_window']) * train_config['lr_threshold'] <= np.mean(train_context['loss_window'][-2:])):\n",
    "            \n",
    "        #    print('    window size : ', len(train_context['loss_window']))\n",
    "        #    print('    decrease lr to : ', train_context['lr'] * train_config['lr_decay'])\n",
    "                \n",
    "        #    train_context['lr'] = train_context['lr'] * train_config['lr_decay']\n",
    "        #    train_context['loss_window'] = []\n",
    "            \n",
    "        #if len(train_context['loss_window']) > 2 * train_config['lr_window']:\n",
    "        #    train_context['loss_window'] = train_context['loss_window'][(train_config['lr_window'] * 3) // 2:]\n",
    "        if train_context['epoch'] > train_config['lr_decay_start']:\n",
    "            train_context['lr'] = train_context['lr'] * train_config['lr_decay']\n",
    "            train_context['loss_window'] = []\n",
    "        \n",
    "        scheduler.step()\n",
    "        \n",
    "        # update context\n",
    "        train_context['epoch'] += 1\n",
    "        \n",
    "        # save model\n",
    "        if (train_context['epoch'] >= train_config['checkpoint_start'] \n",
    "            and train_context['epoch'] % train_config['checkpoint'] is 0):\n",
    "            train_context['last_checkpoint'] = train_config['checkpoint']\n",
    "            torch.save(model, train_config['checkpoint_dir'] + 'model_' + str(train_context['epoch']) + '.dat')\n",
    "            "
   ]
  },
  {
   "cell_type": "markdown",
   "metadata": {},
   "source": [
    "## Run"
   ]
  },
  {
   "cell_type": "code",
   "execution_count": null,
   "metadata": {
    "scrolled": true
   },
   "outputs": [],
   "source": [
    "train(model, loss_func, optimizer, scheduler, train_context, train_config, train_config['plan']['epochs'])\n",
    "if writer is not None:\n",
    "    writer.flush()\n",
    "    writer.close()"
   ]
  },
  {
   "cell_type": "markdown",
   "metadata": {},
   "source": [
    "## Temporary Code"
   ]
  },
  {
   "cell_type": "code",
   "execution_count": null,
   "metadata": {},
   "outputs": [],
   "source": []
  }
 ],
 "metadata": {
  "kernelspec": {
   "display_name": "Python 3",
   "language": "python",
   "name": "python3"
  },
  "language_info": {
   "codemirror_mode": {
    "name": "ipython",
    "version": 3
   },
   "file_extension": ".py",
   "mimetype": "text/x-python",
   "name": "python",
   "nbconvert_exporter": "python",
   "pygments_lexer": "ipython3",
   "version": "3.7.3"
  }
 },
 "nbformat": 4,
 "nbformat_minor": 2
}
